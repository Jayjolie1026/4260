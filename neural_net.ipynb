{
 "cells": [
  {
   "cell_type": "code",
   "execution_count": 29,
   "metadata": {},
   "outputs": [
    {
     "name": "stdout",
     "output_type": "stream",
     "text": [
      "Requirement already satisfied: tensorflow in \\\\labdrive.tntech.edu\\labdrive\\rggrimaud42\\documents\\github\\4260\\.venv\\lib\\site-packages (2.19.0)\n",
      "Requirement already satisfied: absl-py>=1.0.0 in \\\\labdrive.tntech.edu\\labdrive\\rggrimaud42\\documents\\github\\4260\\.venv\\lib\\site-packages (from tensorflow) (2.2.2)\n",
      "Requirement already satisfied: astunparse>=1.6.0 in \\\\labdrive.tntech.edu\\labdrive\\rggrimaud42\\documents\\github\\4260\\.venv\\lib\\site-packages (from tensorflow) (1.6.3)\n",
      "Requirement already satisfied: flatbuffers>=24.3.25 in \\\\labdrive.tntech.edu\\labdrive\\rggrimaud42\\documents\\github\\4260\\.venv\\lib\\site-packages (from tensorflow) (25.2.10)\n",
      "Requirement already satisfied: gast!=0.5.0,!=0.5.1,!=0.5.2,>=0.2.1 in \\\\labdrive.tntech.edu\\labdrive\\rggrimaud42\\documents\\github\\4260\\.venv\\lib\\site-packages (from tensorflow) (0.6.0)\n",
      "Requirement already satisfied: google-pasta>=0.1.1 in \\\\labdrive.tntech.edu\\labdrive\\rggrimaud42\\documents\\github\\4260\\.venv\\lib\\site-packages (from tensorflow) (0.2.0)\n",
      "Requirement already satisfied: libclang>=13.0.0 in \\\\labdrive.tntech.edu\\labdrive\\rggrimaud42\\documents\\github\\4260\\.venv\\lib\\site-packages (from tensorflow) (18.1.1)\n",
      "Requirement already satisfied: opt-einsum>=2.3.2 in \\\\labdrive.tntech.edu\\labdrive\\rggrimaud42\\documents\\github\\4260\\.venv\\lib\\site-packages (from tensorflow) (3.4.0)\n",
      "Requirement already satisfied: packaging in \\\\labdrive.tntech.edu\\labdrive\\rggrimaud42\\documents\\github\\4260\\.venv\\lib\\site-packages (from tensorflow) (24.2)\n",
      "Requirement already satisfied: protobuf!=4.21.0,!=4.21.1,!=4.21.2,!=4.21.3,!=4.21.4,!=4.21.5,<6.0.0dev,>=3.20.3 in \\\\labdrive.tntech.edu\\labdrive\\rggrimaud42\\documents\\github\\4260\\.venv\\lib\\site-packages (from tensorflow) (5.29.4)\n",
      "Requirement already satisfied: requests<3,>=2.21.0 in \\\\labdrive.tntech.edu\\labdrive\\rggrimaud42\\documents\\github\\4260\\.venv\\lib\\site-packages (from tensorflow) (2.32.3)\n",
      "Requirement already satisfied: setuptools in \\\\labdrive.tntech.edu\\labdrive\\rggrimaud42\\documents\\github\\4260\\.venv\\lib\\site-packages (from tensorflow) (65.5.0)\n",
      "Requirement already satisfied: six>=1.12.0 in \\\\labdrive.tntech.edu\\labdrive\\rggrimaud42\\documents\\github\\4260\\.venv\\lib\\site-packages (from tensorflow) (1.17.0)\n",
      "Requirement already satisfied: termcolor>=1.1.0 in \\\\labdrive.tntech.edu\\labdrive\\rggrimaud42\\documents\\github\\4260\\.venv\\lib\\site-packages (from tensorflow) (3.0.1)\n",
      "Requirement already satisfied: typing-extensions>=3.6.6 in \\\\labdrive.tntech.edu\\labdrive\\rggrimaud42\\documents\\github\\4260\\.venv\\lib\\site-packages (from tensorflow) (4.13.2)\n",
      "Requirement already satisfied: wrapt>=1.11.0 in \\\\labdrive.tntech.edu\\labdrive\\rggrimaud42\\documents\\github\\4260\\.venv\\lib\\site-packages (from tensorflow) (1.17.2)\n",
      "Requirement already satisfied: grpcio<2.0,>=1.24.3 in \\\\labdrive.tntech.edu\\labdrive\\rggrimaud42\\documents\\github\\4260\\.venv\\lib\\site-packages (from tensorflow) (1.71.0)\n",
      "Requirement already satisfied: tensorboard~=2.19.0 in \\\\labdrive.tntech.edu\\labdrive\\rggrimaud42\\documents\\github\\4260\\.venv\\lib\\site-packages (from tensorflow) (2.19.0)\n",
      "Requirement already satisfied: keras>=3.5.0 in \\\\labdrive.tntech.edu\\labdrive\\rggrimaud42\\documents\\github\\4260\\.venv\\lib\\site-packages (from tensorflow) (3.9.2)\n",
      "Requirement already satisfied: numpy<2.2.0,>=1.26.0 in \\\\labdrive.tntech.edu\\labdrive\\rggrimaud42\\documents\\github\\4260\\.venv\\lib\\site-packages (from tensorflow) (2.1.3)\n",
      "Requirement already satisfied: h5py>=3.11.0 in \\\\labdrive.tntech.edu\\labdrive\\rggrimaud42\\documents\\github\\4260\\.venv\\lib\\site-packages (from tensorflow) (3.13.0)\n",
      "Requirement already satisfied: ml-dtypes<1.0.0,>=0.5.1 in \\\\labdrive.tntech.edu\\labdrive\\rggrimaud42\\documents\\github\\4260\\.venv\\lib\\site-packages (from tensorflow) (0.5.1)\n",
      "Requirement already satisfied: tensorflow-io-gcs-filesystem>=0.23.1 in \\\\labdrive.tntech.edu\\labdrive\\rggrimaud42\\documents\\github\\4260\\.venv\\lib\\site-packages (from tensorflow) (0.31.0)\n",
      "Requirement already satisfied: wheel<1.0,>=0.23.0 in \\\\labdrive.tntech.edu\\labdrive\\rggrimaud42\\documents\\github\\4260\\.venv\\lib\\site-packages (from astunparse>=1.6.0->tensorflow) (0.45.1)\n",
      "Requirement already satisfied: rich in \\\\labdrive.tntech.edu\\labdrive\\rggrimaud42\\documents\\github\\4260\\.venv\\lib\\site-packages (from keras>=3.5.0->tensorflow) (14.0.0)\n",
      "Requirement already satisfied: namex in \\\\labdrive.tntech.edu\\labdrive\\rggrimaud42\\documents\\github\\4260\\.venv\\lib\\site-packages (from keras>=3.5.0->tensorflow) (0.0.8)\n",
      "Requirement already satisfied: optree in \\\\labdrive.tntech.edu\\labdrive\\rggrimaud42\\documents\\github\\4260\\.venv\\lib\\site-packages (from keras>=3.5.0->tensorflow) (0.15.0)\n",
      "Requirement already satisfied: charset-normalizer<4,>=2 in \\\\labdrive.tntech.edu\\labdrive\\rggrimaud42\\documents\\github\\4260\\.venv\\lib\\site-packages (from requests<3,>=2.21.0->tensorflow) (3.4.1)\n",
      "Requirement already satisfied: idna<4,>=2.5 in \\\\labdrive.tntech.edu\\labdrive\\rggrimaud42\\documents\\github\\4260\\.venv\\lib\\site-packages (from requests<3,>=2.21.0->tensorflow) (3.10)\n",
      "Requirement already satisfied: urllib3<3,>=1.21.1 in \\\\labdrive.tntech.edu\\labdrive\\rggrimaud42\\documents\\github\\4260\\.venv\\lib\\site-packages (from requests<3,>=2.21.0->tensorflow) (2.4.0)\n",
      "Requirement already satisfied: certifi>=2017.4.17 in \\\\labdrive.tntech.edu\\labdrive\\rggrimaud42\\documents\\github\\4260\\.venv\\lib\\site-packages (from requests<3,>=2.21.0->tensorflow) (2025.1.31)\n",
      "Requirement already satisfied: markdown>=2.6.8 in \\\\labdrive.tntech.edu\\labdrive\\rggrimaud42\\documents\\github\\4260\\.venv\\lib\\site-packages (from tensorboard~=2.19.0->tensorflow) (3.8)\n",
      "Requirement already satisfied: tensorboard-data-server<0.8.0,>=0.7.0 in \\\\labdrive.tntech.edu\\labdrive\\rggrimaud42\\documents\\github\\4260\\.venv\\lib\\site-packages (from tensorboard~=2.19.0->tensorflow) (0.7.2)\n",
      "Requirement already satisfied: werkzeug>=1.0.1 in \\\\labdrive.tntech.edu\\labdrive\\rggrimaud42\\documents\\github\\4260\\.venv\\lib\\site-packages (from tensorboard~=2.19.0->tensorflow) (3.1.3)\n",
      "Requirement already satisfied: MarkupSafe>=2.1.1 in \\\\labdrive.tntech.edu\\labdrive\\rggrimaud42\\documents\\github\\4260\\.venv\\lib\\site-packages (from werkzeug>=1.0.1->tensorboard~=2.19.0->tensorflow) (3.0.2)\n",
      "Requirement already satisfied: markdown-it-py>=2.2.0 in \\\\labdrive.tntech.edu\\labdrive\\rggrimaud42\\documents\\github\\4260\\.venv\\lib\\site-packages (from rich->keras>=3.5.0->tensorflow) (3.0.0)\n",
      "Requirement already satisfied: pygments<3.0.0,>=2.13.0 in \\\\labdrive.tntech.edu\\labdrive\\rggrimaud42\\documents\\github\\4260\\.venv\\lib\\site-packages (from rich->keras>=3.5.0->tensorflow) (2.19.1)\n",
      "Requirement already satisfied: mdurl~=0.1 in \\\\labdrive.tntech.edu\\labdrive\\rggrimaud42\\documents\\github\\4260\\.venv\\lib\\site-packages (from markdown-it-py>=2.2.0->rich->keras>=3.5.0->tensorflow) (0.1.2)\n",
      "Note: you may need to restart the kernel to use updated packages.\n",
      "Requirement already satisfied: pandas in \\\\labdrive.tntech.edu\\labdrive\\rggrimaud42\\documents\\github\\4260\\.venv\\lib\\site-packages (2.2.3)\n",
      "Requirement already satisfied: numpy>=1.23.2 in \\\\labdrive.tntech.edu\\labdrive\\rggrimaud42\\documents\\github\\4260\\.venv\\lib\\site-packages (from pandas) (2.1.3)\n",
      "Requirement already satisfied: python-dateutil>=2.8.2 in \\\\labdrive.tntech.edu\\labdrive\\rggrimaud42\\documents\\github\\4260\\.venv\\lib\\site-packages (from pandas) (2.9.0.post0)\n",
      "Requirement already satisfied: pytz>=2020.1 in \\\\labdrive.tntech.edu\\labdrive\\rggrimaud42\\documents\\github\\4260\\.venv\\lib\\site-packages (from pandas) (2025.2)\n",
      "Requirement already satisfied: tzdata>=2022.7 in \\\\labdrive.tntech.edu\\labdrive\\rggrimaud42\\documents\\github\\4260\\.venv\\lib\\site-packages (from pandas) (2025.2)\n",
      "Requirement already satisfied: six>=1.5 in \\\\labdrive.tntech.edu\\labdrive\\rggrimaud42\\documents\\github\\4260\\.venv\\lib\\site-packages (from python-dateutil>=2.8.2->pandas) (1.17.0)\n",
      "Note: you may need to restart the kernel to use updated packages.\n",
      "Requirement already satisfied: scikit-learn in \\\\labdrive.tntech.edu\\labdrive\\rggrimaud42\\documents\\github\\4260\\.venv\\lib\\site-packages (1.6.1)\n",
      "Requirement already satisfied: numpy>=1.19.5 in \\\\labdrive.tntech.edu\\labdrive\\rggrimaud42\\documents\\github\\4260\\.venv\\lib\\site-packages (from scikit-learn) (2.1.3)\n",
      "Requirement already satisfied: scipy>=1.6.0 in \\\\labdrive.tntech.edu\\labdrive\\rggrimaud42\\documents\\github\\4260\\.venv\\lib\\site-packages (from scikit-learn) (1.15.2)\n",
      "Requirement already satisfied: joblib>=1.2.0 in \\\\labdrive.tntech.edu\\labdrive\\rggrimaud42\\documents\\github\\4260\\.venv\\lib\\site-packages (from scikit-learn) (1.4.2)\n",
      "Requirement already satisfied: threadpoolctl>=3.1.0 in \\\\labdrive.tntech.edu\\labdrive\\rggrimaud42\\documents\\github\\4260\\.venv\\lib\\site-packages (from scikit-learn) (3.6.0)\n",
      "Note: you may need to restart the kernel to use updated packages.\n",
      "Requirement already satisfied: imbalanced-learn in \\\\labdrive.tntech.edu\\labdrive\\rggrimaud42\\documents\\github\\4260\\.venv\\lib\\site-packages (0.13.0)\n",
      "Requirement already satisfied: numpy<3,>=1.24.3 in \\\\labdrive.tntech.edu\\labdrive\\rggrimaud42\\documents\\github\\4260\\.venv\\lib\\site-packages (from imbalanced-learn) (2.1.3)\n",
      "Requirement already satisfied: scipy<2,>=1.10.1 in \\\\labdrive.tntech.edu\\labdrive\\rggrimaud42\\documents\\github\\4260\\.venv\\lib\\site-packages (from imbalanced-learn) (1.15.2)\n",
      "Requirement already satisfied: scikit-learn<2,>=1.3.2 in \\\\labdrive.tntech.edu\\labdrive\\rggrimaud42\\documents\\github\\4260\\.venv\\lib\\site-packages (from imbalanced-learn) (1.6.1)\n",
      "Requirement already satisfied: sklearn-compat<1,>=0.1 in \\\\labdrive.tntech.edu\\labdrive\\rggrimaud42\\documents\\github\\4260\\.venv\\lib\\site-packages (from imbalanced-learn) (0.1.3)\n",
      "Requirement already satisfied: joblib<2,>=1.1.1 in \\\\labdrive.tntech.edu\\labdrive\\rggrimaud42\\documents\\github\\4260\\.venv\\lib\\site-packages (from imbalanced-learn) (1.4.2)\n",
      "Requirement already satisfied: threadpoolctl<4,>=2.0.0 in \\\\labdrive.tntech.edu\\labdrive\\rggrimaud42\\documents\\github\\4260\\.venv\\lib\\site-packages (from imbalanced-learn) (3.6.0)\n",
      "Note: you may need to restart the kernel to use updated packages.\n",
      "Collecting shap\n",
      "  Downloading shap-0.47.1-cp311-cp311-win_amd64.whl.metadata (25 kB)\n",
      "Requirement already satisfied: numpy in \\\\labdrive.tntech.edu\\labdrive\\rggrimaud42\\documents\\github\\4260\\.venv\\lib\\site-packages (from shap) (2.1.3)\n",
      "Requirement already satisfied: scipy in \\\\labdrive.tntech.edu\\labdrive\\rggrimaud42\\documents\\github\\4260\\.venv\\lib\\site-packages (from shap) (1.15.2)\n",
      "Requirement already satisfied: scikit-learn in \\\\labdrive.tntech.edu\\labdrive\\rggrimaud42\\documents\\github\\4260\\.venv\\lib\\site-packages (from shap) (1.6.1)\n",
      "Requirement already satisfied: pandas in \\\\labdrive.tntech.edu\\labdrive\\rggrimaud42\\documents\\github\\4260\\.venv\\lib\\site-packages (from shap) (2.2.3)\n",
      "Collecting tqdm>=4.27.0 (from shap)\n",
      "  Downloading tqdm-4.67.1-py3-none-any.whl.metadata (57 kB)\n",
      "Requirement already satisfied: packaging>20.9 in \\\\labdrive.tntech.edu\\labdrive\\rggrimaud42\\documents\\github\\4260\\.venv\\lib\\site-packages (from shap) (24.2)\n",
      "Collecting slicer==0.0.8 (from shap)\n",
      "  Downloading slicer-0.0.8-py3-none-any.whl.metadata (4.0 kB)\n",
      "Collecting numba>=0.54 (from shap)\n",
      "  Downloading numba-0.61.2-cp311-cp311-win_amd64.whl.metadata (2.9 kB)\n",
      "Collecting cloudpickle (from shap)\n",
      "  Downloading cloudpickle-3.1.1-py3-none-any.whl.metadata (7.1 kB)\n",
      "Requirement already satisfied: typing-extensions in \\\\labdrive.tntech.edu\\labdrive\\rggrimaud42\\documents\\github\\4260\\.venv\\lib\\site-packages (from shap) (4.13.2)\n",
      "Collecting llvmlite<0.45,>=0.44.0dev0 (from numba>=0.54->shap)\n",
      "  Downloading llvmlite-0.44.0-cp311-cp311-win_amd64.whl.metadata (5.0 kB)\n",
      "Requirement already satisfied: colorama in \\\\labdrive.tntech.edu\\labdrive\\rggrimaud42\\documents\\github\\4260\\.venv\\lib\\site-packages (from tqdm>=4.27.0->shap) (0.4.6)\n",
      "Requirement already satisfied: python-dateutil>=2.8.2 in \\\\labdrive.tntech.edu\\labdrive\\rggrimaud42\\documents\\github\\4260\\.venv\\lib\\site-packages (from pandas->shap) (2.9.0.post0)\n",
      "Requirement already satisfied: pytz>=2020.1 in \\\\labdrive.tntech.edu\\labdrive\\rggrimaud42\\documents\\github\\4260\\.venv\\lib\\site-packages (from pandas->shap) (2025.2)\n",
      "Requirement already satisfied: tzdata>=2022.7 in \\\\labdrive.tntech.edu\\labdrive\\rggrimaud42\\documents\\github\\4260\\.venv\\lib\\site-packages (from pandas->shap) (2025.2)\n",
      "Requirement already satisfied: joblib>=1.2.0 in \\\\labdrive.tntech.edu\\labdrive\\rggrimaud42\\documents\\github\\4260\\.venv\\lib\\site-packages (from scikit-learn->shap) (1.4.2)\n",
      "Requirement already satisfied: threadpoolctl>=3.1.0 in \\\\labdrive.tntech.edu\\labdrive\\rggrimaud42\\documents\\github\\4260\\.venv\\lib\\site-packages (from scikit-learn->shap) (3.6.0)\n",
      "Requirement already satisfied: six>=1.5 in \\\\labdrive.tntech.edu\\labdrive\\rggrimaud42\\documents\\github\\4260\\.venv\\lib\\site-packages (from python-dateutil>=2.8.2->pandas->shap) (1.17.0)\n",
      "Downloading shap-0.47.1-cp311-cp311-win_amd64.whl (489 kB)\n",
      "Downloading slicer-0.0.8-py3-none-any.whl (15 kB)\n",
      "Downloading numba-0.61.2-cp311-cp311-win_amd64.whl (2.8 MB)\n",
      "   ---------------------------------------- 0.0/2.8 MB ? eta -:--:--\n",
      "   ------------------------------------- -- 2.6/2.8 MB 12.6 MB/s eta 0:00:01\n",
      "   ---------------------------------------- 2.8/2.8 MB 11.7 MB/s eta 0:00:00\n",
      "Downloading tqdm-4.67.1-py3-none-any.whl (78 kB)\n",
      "Downloading cloudpickle-3.1.1-py3-none-any.whl (20 kB)\n",
      "Downloading llvmlite-0.44.0-cp311-cp311-win_amd64.whl (30.3 MB)\n",
      "   ---------------------------------------- 0.0/30.3 MB ? eta -:--:--\n",
      "   --- ------------------------------------ 2.6/30.3 MB 13.7 MB/s eta 0:00:03\n",
      "   ------ --------------------------------- 5.2/30.3 MB 12.8 MB/s eta 0:00:02\n",
      "   ---------- ----------------------------- 7.9/30.3 MB 12.5 MB/s eta 0:00:02\n",
      "   ------------- -------------------------- 10.0/30.3 MB 11.9 MB/s eta 0:00:02\n",
      "   ---------------- ----------------------- 12.8/30.3 MB 12.0 MB/s eta 0:00:02\n",
      "   -------------------- ------------------- 15.5/30.3 MB 12.0 MB/s eta 0:00:02\n",
      "   ----------------------- ---------------- 17.8/30.3 MB 12.0 MB/s eta 0:00:02\n",
      "   -------------------------- ------------- 20.4/30.3 MB 12.1 MB/s eta 0:00:01\n",
      "   ------------------------------ --------- 23.1/30.3 MB 12.0 MB/s eta 0:00:01\n",
      "   --------------------------------- ------ 25.4/30.3 MB 11.8 MB/s eta 0:00:01\n",
      "   ------------------------------------ --- 27.5/30.3 MB 11.8 MB/s eta 0:00:01\n",
      "   ---------------------------------------  29.6/30.3 MB 11.5 MB/s eta 0:00:01\n",
      "   ---------------------------------------- 30.3/30.3 MB 11.0 MB/s eta 0:00:00\n",
      "Installing collected packages: tqdm, slicer, llvmlite, cloudpickle, numba, shap\n",
      "Successfully installed cloudpickle-3.1.1 llvmlite-0.44.0 numba-0.61.2 shap-0.47.1 slicer-0.0.8 tqdm-4.67.1\n",
      "Note: you may need to restart the kernel to use updated packages.\n"
     ]
    }
   ],
   "source": [
    "%pip install tensorflow\n",
    "%pip install pandas\n",
    "%pip install scikit-learn\n",
    "%pip install imbalanced-learn\n",
    "%pip install shap\n",
    "\n"
   ]
  },
  {
   "cell_type": "code",
   "execution_count": 30,
   "metadata": {},
   "outputs": [
    {
     "name": "stderr",
     "output_type": "stream",
     "text": [
      "\\\\labdrive.tntech.edu\\labdrive\\rggrimaud42\\Documents\\GitHub\\4260\\.venv\\Lib\\site-packages\\tqdm\\auto.py:21: TqdmWarning: IProgress not found. Please update jupyter and ipywidgets. See https://ipywidgets.readthedocs.io/en/stable/user_install.html\n",
      "  from .autonotebook import tqdm as notebook_tqdm\n"
     ]
    }
   ],
   "source": [
    "import tensorflow as tf\n",
    "from tensorflow import keras\n",
    "from tensorflow.keras import layers\n",
    "import pandas as pd\n",
    "from sklearn.model_selection import train_test_split\n",
    "from sklearn.preprocessing import LabelEncoder\n",
    "import numpy as np\n",
    "from imblearn.over_sampling import SMOTE\n",
    "import shap\n"
   ]
  },
  {
   "cell_type": "markdown",
   "metadata": {},
   "source": [
    "## Load and split data"
   ]
  },
  {
   "cell_type": "code",
   "execution_count": 31,
   "metadata": {},
   "outputs": [
    {
     "name": "stdout",
     "output_type": "stream",
     "text": [
      "<class 'pandas.core.frame.DataFrame'>\n",
      "RangeIndex: 318438 entries, 0 to 318437\n",
      "Columns: 107 entries, Available Extra Rooms in Hospital to City_Code_Patient_9\n",
      "dtypes: bool(99), float64(7), int64(1)\n",
      "memory usage: 49.5 MB\n"
     ]
    }
   ],
   "source": [
    "train_dir = \"train_cleaned.csv\"\n",
    "train_data = pd.read_csv(train_dir)\n",
    "\n",
    "train_data.info()"
   ]
  },
  {
   "cell_type": "code",
   "execution_count": 32,
   "metadata": {},
   "outputs": [],
   "source": [
    "X = train_data.drop(columns=['Stay'])\n",
    "X = X.astype('float32')\n",
    "y = train_data['Stay']\n",
    "\n",
    "\n",
    "X_train, X_test, y_train, y_test = train_test_split(X, y, test_size=0.2, random_state=42, stratify=y)      "
   ]
  },
  {
   "cell_type": "code",
   "execution_count": 33,
   "metadata": {},
   "outputs": [],
   "source": [
    "# Apply SMOTE to training data only\n",
    "smote = SMOTE(random_state=42)\n",
    "X_train_balanced, y_train_balanced = smote.fit_resample(X_train, y_train)\n"
   ]
  },
  {
   "cell_type": "code",
   "execution_count": 34,
   "metadata": {},
   "outputs": [],
   "source": [
    "# Get the number of input features and classes\n",
    "num_features = X_train_balanced.shape[1]\n",
    "num_classes = len(np.unique(y_train_balanced))"
   ]
  },
  {
   "cell_type": "code",
   "execution_count": 35,
   "metadata": {},
   "outputs": [
    {
     "name": "stdout",
     "output_type": "stream",
     "text": [
      "Available Extra Rooms in Hospital    float32\n",
      "Bed Grade                            float32\n",
      "Type of Admission                    float32\n",
      "Severity of Illness                  float32\n",
      "Visitors with Patient                float32\n",
      "                                      ...   \n",
      "City_Code_Patient_5                  float32\n",
      "City_Code_Patient_6                  float32\n",
      "City_Code_Patient_7                  float32\n",
      "City_Code_Patient_8                  float32\n",
      "City_Code_Patient_9                  float32\n",
      "Length: 106, dtype: object\n"
     ]
    }
   ],
   "source": [
    "print(X_train.dtypes)\n"
   ]
  },
  {
   "cell_type": "markdown",
   "metadata": {},
   "source": [
    "## Neural Network"
   ]
  },
  {
   "cell_type": "code",
   "execution_count": null,
   "metadata": {},
   "outputs": [
    {
     "name": "stderr",
     "output_type": "stream",
     "text": [
      "\\\\labdrive.tntech.edu\\labdrive\\rggrimaud42\\Documents\\GitHub\\4260\\.venv\\Lib\\site-packages\\keras\\src\\layers\\core\\dense.py:87: UserWarning: Do not pass an `input_shape`/`input_dim` argument to a layer. When using Sequential models, prefer using an `Input(shape)` object as the first layer in the model instead.\n",
      "  super().__init__(activity_regularizer=activity_regularizer, **kwargs)\n"
     ]
    },
    {
     "name": "stdout",
     "output_type": "stream",
     "text": [
      "Epoch 1/20\n",
      "\u001b[1m7961/7961\u001b[0m \u001b[32m━━━━━━━━━━━━━━━━━━━━\u001b[0m\u001b[37m\u001b[0m \u001b[1m27s\u001b[0m 3ms/step - accuracy: 0.3069 - loss: 1.9016 - val_accuracy: 0.4009 - val_loss: 1.5699\n",
      "Epoch 2/20\n",
      "\u001b[1m7961/7961\u001b[0m \u001b[32m━━━━━━━━━━━━━━━━━━━━\u001b[0m\u001b[37m\u001b[0m \u001b[1m26s\u001b[0m 3ms/step - accuracy: 0.3874 - loss: 1.6154 - val_accuracy: 0.4139 - val_loss: 1.5481\n",
      "Epoch 3/20\n",
      "\u001b[1m7961/7961\u001b[0m \u001b[32m━━━━━━━━━━━━━━━━━━━━\u001b[0m\u001b[37m\u001b[0m \u001b[1m24s\u001b[0m 3ms/step - accuracy: 0.3969 - loss: 1.5939 - val_accuracy: 0.4159 - val_loss: 1.5385\n",
      "Epoch 4/20\n",
      "\u001b[1m7961/7961\u001b[0m \u001b[32m━━━━━━━━━━━━━━━━━━━━\u001b[0m\u001b[37m\u001b[0m \u001b[1m23s\u001b[0m 3ms/step - accuracy: 0.4011 - loss: 1.5860 - val_accuracy: 0.4216 - val_loss: 1.5282\n",
      "Epoch 5/20\n",
      "\u001b[1m7961/7961\u001b[0m \u001b[32m━━━━━━━━━━━━━━━━━━━━\u001b[0m\u001b[37m\u001b[0m \u001b[1m24s\u001b[0m 3ms/step - accuracy: 0.4022 - loss: 1.5801 - val_accuracy: 0.4216 - val_loss: 1.5244\n",
      "Epoch 6/20\n",
      "\u001b[1m7947/7961\u001b[0m \u001b[32m━━━━━━━━━━━━━━━━━━━\u001b[0m\u001b[37m━\u001b[0m \u001b[1m0s\u001b[0m 2ms/step - accuracy: 0.4038 - loss: 1.5764"
     ]
    }
   ],
   "source": [
    "# Build the model\n",
    "model = keras.Sequential([\n",
    "    layers.Dense(128, activation='relu', input_shape=(num_features,)),\n",
    "    layers.BatchNormalization(),\n",
    "    layers.Dropout(0.3),\n",
    "\n",
    "    layers.Dense(64, activation='relu'),\n",
    "    layers.BatchNormalization(),\n",
    "    layers.Dropout(0.3),\n",
    "\n",
    "    layers.Dense(32, activation='relu'),\n",
    "    layers.BatchNormalization(),\n",
    "    layers.Dropout(0.2),\n",
    "\n",
    "    layers.Dense(num_classes, activation='softmax')  # Softmax for multi-class classification\n",
    "])\n",
    "\n",
    "# Compile the model\n",
    "model.compile(\n",
    "    optimizer=keras.optimizers.Adam(learning_rate=0.001),\n",
    "    loss='sparse_categorical_crossentropy',  # Use 'categorical_crossentropy' if one-hot encoded\n",
    "    metrics=['accuracy']\n",
    ")\n",
    "\n",
    "# Train the model\n",
    "history = model.fit(\n",
    "    X_train, y_train, \n",
    "    validation_data=(X_train, y_train), \n",
    "    epochs=20, \n",
    "    batch_size=32, \n",
    "    class_weight=None,  # Adjust if imbalance exists\n",
    "    verbose=1\n",
    ")\n",
    "\n",
    "# Evaluate the model\n",
    "test_loss, test_acc = model.evaluate(X_test, y_test)\n",
    "print(f\"Test Accuracy: {test_acc:.4f}\")"
   ]
  },
  {
   "cell_type": "code",
   "execution_count": null,
   "metadata": {},
   "outputs": [],
   "source": [
    "# 1. Create an explainer — for TensorFlow/Keras models, use DeepExplainer\n",
    "explainer = shap.DeepExplainer(model, X_train[:100])  # use a small background set\n",
    "\n",
    "# 2. Pick some samples to explain\n",
    "X_explain = X_test[:10]  # choose a small number for visual clarity\n",
    "\n",
    "# 3. Generate SHAP values\n",
    "shap_values = explainer.shap_values(X_explain)\n",
    "\n",
    "# 4. Plot!\n",
    "shap.summary_plot(shap_values, X_explain)"
   ]
  }
 ],
 "metadata": {
  "kernelspec": {
   "display_name": ".venv",
   "language": "python",
   "name": "python3"
  },
  "language_info": {
   "codemirror_mode": {
    "name": "ipython",
    "version": 3
   },
   "file_extension": ".py",
   "mimetype": "text/x-python",
   "name": "python",
   "nbconvert_exporter": "python",
   "pygments_lexer": "ipython3",
   "version": "3.11.9"
  }
 },
 "nbformat": 4,
 "nbformat_minor": 2
}
