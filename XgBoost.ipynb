{
 "cells": [
  {
   "cell_type": "code",
   "execution_count": 43,
   "id": "bf9672cb-5fdc-4762-9761-399a1706fef0",
   "metadata": {},
   "outputs": [],
   "source": [
    "import numpy as np\n",
    "import pandas as pd\n",
    "from sklearn.preprocessing import LabelEncoder, MinMaxScaler, StandardScaler\n",
    "from sklearn.model_selection import train_test_split\n",
    "from sklearn.metrics import accuracy_score, classification_report, confusion_matrix\n",
    "import xgboost as xgb"
   ]
  },
  {
   "cell_type": "code",
   "execution_count": 44,
   "id": "acef3813-0d4b-4805-8831-dd90978c05e9",
   "metadata": {},
   "outputs": [],
   "source": [
    "# Load datasets\n",
    "train_dir = \"train.csv\"\n",
    "test_dir = \"test.csv\"\n",
    "\n",
    "# Read the data\n",
    "train_data = pd.read_csv(train_dir)\n",
    "#test_data = pd.read_csv(test_dir)"
   ]
  },
  {
   "cell_type": "code",
   "execution_count": 45,
   "id": "eb27c036-4dc8-47a6-8a13-c3e13146e55c",
   "metadata": {},
   "outputs": [],
   "source": [
    "if 'Bed Grade' in train_data.columns and train_data['Bed Grade'].isnull().sum() > 0:\n",
    "    train_data['Bed Grade'].fillna(train_data['Bed Grade'].mode()[0], inplace=True)\n",
    "if 'City_Code_Patient' in train_data.columns and train_data['City_Code_Patient'].isnull().sum() > 0:\n",
    "    train_data['City_Code_Patient'].fillna(train_data['City_Code_Patient'].mode()[0], inplace=True)\n",
    "\n",
    "# Ensure Bed Grade and City Code are integers\n",
    "if 'Bed Grade' in train_data.columns:\n",
    "    train_data['Bed Grade'] = train_data['Bed Grade'].astype(int)\n",
    "if 'City_Code_Patient' in train_data.columns:\n",
    "    train_data['City_Code_Patient'] = train_data['City_Code_Patient'].astype(int)"
   ]
  },
  {
   "cell_type": "code",
   "execution_count": 46,
   "id": "eebdfbfa-407f-482e-8379-32fe9df69590",
   "metadata": {},
   "outputs": [],
   "source": [
    "train_data.drop(columns=[col for col in ['case_id', 'patientid'] if col in train_data.columns], inplace=True)"
   ]
  },
  {
   "cell_type": "code",
   "execution_count": 47,
   "id": "674231f9-5b83-4192-836d-da9de8472715",
   "metadata": {},
   "outputs": [],
   "source": [
    "stay_mapping = {\n",
    "    '0-10': 0, '11-20': 1, '21-30': 2, '31-40': 3, '41-50': 4,\n",
    "    '51-60': 5, '61-70': 6, '71-80': 7, '81-90': 8, '91-100': 9,\n",
    "    '100 Days': 9, 'More than 100 Days': 10\n",
    "}\n",
    "train_data['Stay'] = train_data['Stay'].map(stay_mapping)"
   ]
  },
  {
   "cell_type": "code",
   "execution_count": 48,
   "id": "9606e1ff-7161-4cc1-b566-a56871788889",
   "metadata": {},
   "outputs": [],
   "source": [
    "# Convert categorical variables using the specified mappings\n",
    "if 'Hospital_type_code' in train_data.columns:\n",
    "    train_data['Hospital_type_code'] = train_data['Hospital_type_code'].map(lambda x: ord(x.lower()) - ord('a') + 1)\n",
    "if 'Ward_Facility_Code' in train_data.columns:\n",
    "    train_data['Ward_Facility_Code'] = train_data['Ward_Facility_Code'].map(lambda x: ord(x) - ord('A') + 1)\n",
    "if 'Hospital_region_code' in train_data.columns:\n",
    "    region_mapping = {'X': 1, 'Y': 2, 'Z': 3}\n",
    "    train_data['Hospital_region_code'] = train_data['Hospital_region_code'].map(region_mapping)\n",
    "if 'Ward_Type' in train_data.columns:\n",
    "    train_data['Ward_Type'] = train_data['Ward_Type'].map(lambda x: ord(x) - ord('P') + 1)\n",
    "if 'Type of Admission' in train_data.columns:\n",
    "    admission_mapping = {'Trauma': 1, 'Urgent': 2, 'Emergency': 3}\n",
    "    train_data['Type of Admission'] = train_data['Type of Admission'].map(admission_mapping)\n",
    "if 'Severity of Illness' in train_data.columns:\n",
    "    severity_mapping = {'Minor': 1, 'Moderate': 2, 'Extreme': 3}\n",
    "    train_data['Severity of Illness'] = train_data['Severity of Illness'].map(severity_mapping)"
   ]
  },
  {
   "cell_type": "code",
   "execution_count": 49,
   "id": "49bb223e-6951-465e-b5c7-2364b105ebc5",
   "metadata": {},
   "outputs": [],
   "source": [
    "label_encoders = {}\n",
    "\n",
    "# Label Encode Age by decade\n",
    "if 'Age' in train_data.columns:\n",
    "    le = LabelEncoder()\n",
    "    train_data['Age'] = le.fit_transform(train_data['Age'])\n",
    "    label_encoders['Age'] = le\n",
    "\n",
    "# Label Encode Department\n",
    "if 'Department' in train_data.columns:\n",
    "    le = LabelEncoder()\n",
    "    train_data['Department'] = le.fit_transform(train_data['Department'])\n",
    "    label_encoders['Department'] = le"
   ]
  },
  {
   "cell_type": "code",
   "execution_count": 50,
   "id": "ad5de094-74cf-4ebc-9c4b-c2ab44b71e78",
   "metadata": {},
   "outputs": [],
   "source": [
    "# Convert categorical variables using the specified mappings\n",
    "categorical_codes = ['Hospital_code', 'Hospital_type_code', 'City_Code_Hospital', 'Department', 'Ward_Facility_Code', 'Hospital_region_code', 'Ward_Type', 'City_Code_Patient']\n",
    "for col in categorical_codes:\n",
    "    if col in train_data.columns:\n",
    "        train_data[col] = train_data[col].astype(str)"
   ]
  },
  {
   "cell_type": "code",
   "execution_count": 51,
   "id": "ecd528a9-0c86-4c54-ba57-3357f6f66089",
   "metadata": {},
   "outputs": [],
   "source": [
    "categorical_codes = ['Hospital_code', 'Hospital_type_code', 'City_Code_Hospital', 'Department', 'Ward_Facility_Code', 'Hospital_region_code', 'Ward_Type', 'City_Code_Patient', 'Stay']\n",
    "train_data_encoded = pd.get_dummies(train_data, columns=categorical_codes, drop_first=False)"
   ]
  },
  {
   "cell_type": "code",
   "execution_count": 52,
   "id": "93314b61-1a85-436c-9806-bf57026baf03",
   "metadata": {},
   "outputs": [],
   "source": [
    "X = train_data.drop(columns=['Stay'])\n",
    "y = train_data['Stay']\n",
    "\n",
    "\n",
    "X_train, X_test, y_train, y_test = train_test_split(X, y, test_size=0.2, random_state=42, stratify=y)\n",
    "\n",
    "\n",
    "scaler = StandardScaler()\n",
    "\n",
    "\n",
    "X_train_scaled = scaler.fit_transform(X_train)  \n",
    "X_test_scaled = scaler.transform(X_test)       "
   ]
  },
  {
   "cell_type": "code",
   "execution_count": 53,
   "id": "96b741c0-b245-435b-ad61-30f25576346a",
   "metadata": {},
   "outputs": [],
   "source": [
    "xgb_clf = xgb.XGBClassifier(objective=\"multi:softmax\", num_class=len(set(y_train)), eval_metric=\"mlogloss\")"
   ]
  },
  {
   "cell_type": "code",
   "execution_count": 54,
   "id": "852ef890-0c3a-4f12-8cbb-f82cb9235d1c",
   "metadata": {},
   "outputs": [
    {
     "data": {
      "text/html": [
       "<style>#sk-container-id-3 {color: black;}#sk-container-id-3 pre{padding: 0;}#sk-container-id-3 div.sk-toggleable {background-color: white;}#sk-container-id-3 label.sk-toggleable__label {cursor: pointer;display: block;width: 100%;margin-bottom: 0;padding: 0.3em;box-sizing: border-box;text-align: center;}#sk-container-id-3 label.sk-toggleable__label-arrow:before {content: \"▸\";float: left;margin-right: 0.25em;color: #696969;}#sk-container-id-3 label.sk-toggleable__label-arrow:hover:before {color: black;}#sk-container-id-3 div.sk-estimator:hover label.sk-toggleable__label-arrow:before {color: black;}#sk-container-id-3 div.sk-toggleable__content {max-height: 0;max-width: 0;overflow: hidden;text-align: left;background-color: #f0f8ff;}#sk-container-id-3 div.sk-toggleable__content pre {margin: 0.2em;color: black;border-radius: 0.25em;background-color: #f0f8ff;}#sk-container-id-3 input.sk-toggleable__control:checked~div.sk-toggleable__content {max-height: 200px;max-width: 100%;overflow: auto;}#sk-container-id-3 input.sk-toggleable__control:checked~label.sk-toggleable__label-arrow:before {content: \"▾\";}#sk-container-id-3 div.sk-estimator input.sk-toggleable__control:checked~label.sk-toggleable__label {background-color: #d4ebff;}#sk-container-id-3 div.sk-label input.sk-toggleable__control:checked~label.sk-toggleable__label {background-color: #d4ebff;}#sk-container-id-3 input.sk-hidden--visually {border: 0;clip: rect(1px 1px 1px 1px);clip: rect(1px, 1px, 1px, 1px);height: 1px;margin: -1px;overflow: hidden;padding: 0;position: absolute;width: 1px;}#sk-container-id-3 div.sk-estimator {font-family: monospace;background-color: #f0f8ff;border: 1px dotted black;border-radius: 0.25em;box-sizing: border-box;margin-bottom: 0.5em;}#sk-container-id-3 div.sk-estimator:hover {background-color: #d4ebff;}#sk-container-id-3 div.sk-parallel-item::after {content: \"\";width: 100%;border-bottom: 1px solid gray;flex-grow: 1;}#sk-container-id-3 div.sk-label:hover label.sk-toggleable__label {background-color: #d4ebff;}#sk-container-id-3 div.sk-serial::before {content: \"\";position: absolute;border-left: 1px solid gray;box-sizing: border-box;top: 0;bottom: 0;left: 50%;z-index: 0;}#sk-container-id-3 div.sk-serial {display: flex;flex-direction: column;align-items: center;background-color: white;padding-right: 0.2em;padding-left: 0.2em;position: relative;}#sk-container-id-3 div.sk-item {position: relative;z-index: 1;}#sk-container-id-3 div.sk-parallel {display: flex;align-items: stretch;justify-content: center;background-color: white;position: relative;}#sk-container-id-3 div.sk-item::before, #sk-container-id-3 div.sk-parallel-item::before {content: \"\";position: absolute;border-left: 1px solid gray;box-sizing: border-box;top: 0;bottom: 0;left: 50%;z-index: -1;}#sk-container-id-3 div.sk-parallel-item {display: flex;flex-direction: column;z-index: 1;position: relative;background-color: white;}#sk-container-id-3 div.sk-parallel-item:first-child::after {align-self: flex-end;width: 50%;}#sk-container-id-3 div.sk-parallel-item:last-child::after {align-self: flex-start;width: 50%;}#sk-container-id-3 div.sk-parallel-item:only-child::after {width: 0;}#sk-container-id-3 div.sk-dashed-wrapped {border: 1px dashed gray;margin: 0 0.4em 0.5em 0.4em;box-sizing: border-box;padding-bottom: 0.4em;background-color: white;}#sk-container-id-3 div.sk-label label {font-family: monospace;font-weight: bold;display: inline-block;line-height: 1.2em;}#sk-container-id-3 div.sk-label-container {text-align: center;}#sk-container-id-3 div.sk-container {/* jupyter's `normalize.less` sets `[hidden] { display: none; }` but bootstrap.min.css set `[hidden] { display: none !important; }` so we also need the `!important` here to be able to override the default hidden behavior on the sphinx rendered scikit-learn.org. See: https://github.com/scikit-learn/scikit-learn/issues/21755 */display: inline-block !important;position: relative;}#sk-container-id-3 div.sk-text-repr-fallback {display: none;}</style><div id=\"sk-container-id-3\" class=\"sk-top-container\"><div class=\"sk-text-repr-fallback\"><pre>XGBClassifier(base_score=None, booster=None, callbacks=None,\n",
       "              colsample_bylevel=None, colsample_bynode=None,\n",
       "              colsample_bytree=None, device=None, early_stopping_rounds=None,\n",
       "              enable_categorical=False, eval_metric=&#x27;mlogloss&#x27;,\n",
       "              feature_types=None, gamma=None, grow_policy=None,\n",
       "              importance_type=None, interaction_constraints=None,\n",
       "              learning_rate=None, max_bin=None, max_cat_threshold=None,\n",
       "              max_cat_to_onehot=None, max_delta_step=None, max_depth=None,\n",
       "              max_leaves=None, min_child_weight=None, missing=nan,\n",
       "              monotone_constraints=None, multi_strategy=None, n_estimators=None,\n",
       "              n_jobs=None, num_class=11, num_parallel_tree=None, ...)</pre><b>In a Jupyter environment, please rerun this cell to show the HTML representation or trust the notebook. <br />On GitHub, the HTML representation is unable to render, please try loading this page with nbviewer.org.</b></div><div class=\"sk-container\" hidden><div class=\"sk-item\"><div class=\"sk-estimator sk-toggleable\"><input class=\"sk-toggleable__control sk-hidden--visually\" id=\"sk-estimator-id-3\" type=\"checkbox\" checked><label for=\"sk-estimator-id-3\" class=\"sk-toggleable__label sk-toggleable__label-arrow\">XGBClassifier</label><div class=\"sk-toggleable__content\"><pre>XGBClassifier(base_score=None, booster=None, callbacks=None,\n",
       "              colsample_bylevel=None, colsample_bynode=None,\n",
       "              colsample_bytree=None, device=None, early_stopping_rounds=None,\n",
       "              enable_categorical=False, eval_metric=&#x27;mlogloss&#x27;,\n",
       "              feature_types=None, gamma=None, grow_policy=None,\n",
       "              importance_type=None, interaction_constraints=None,\n",
       "              learning_rate=None, max_bin=None, max_cat_threshold=None,\n",
       "              max_cat_to_onehot=None, max_delta_step=None, max_depth=None,\n",
       "              max_leaves=None, min_child_weight=None, missing=nan,\n",
       "              monotone_constraints=None, multi_strategy=None, n_estimators=None,\n",
       "              n_jobs=None, num_class=11, num_parallel_tree=None, ...)</pre></div></div></div></div></div>"
      ],
      "text/plain": [
       "XGBClassifier(base_score=None, booster=None, callbacks=None,\n",
       "              colsample_bylevel=None, colsample_bynode=None,\n",
       "              colsample_bytree=None, device=None, early_stopping_rounds=None,\n",
       "              enable_categorical=False, eval_metric='mlogloss',\n",
       "              feature_types=None, gamma=None, grow_policy=None,\n",
       "              importance_type=None, interaction_constraints=None,\n",
       "              learning_rate=None, max_bin=None, max_cat_threshold=None,\n",
       "              max_cat_to_onehot=None, max_delta_step=None, max_depth=None,\n",
       "              max_leaves=None, min_child_weight=None, missing=nan,\n",
       "              monotone_constraints=None, multi_strategy=None, n_estimators=None,\n",
       "              n_jobs=None, num_class=11, num_parallel_tree=None, ...)"
      ]
     },
     "execution_count": 54,
     "metadata": {},
     "output_type": "execute_result"
    }
   ],
   "source": [
    "xgb_clf.fit(X_train_scaled, y_train)"
   ]
  },
  {
   "cell_type": "code",
   "execution_count": 55,
   "id": "194d1dd8-2bb1-46ec-844f-480e4df0c611",
   "metadata": {},
   "outputs": [
    {
     "name": "stdout",
     "output_type": "stream",
     "text": [
      "Accuracy: 0.4249\n",
      "Classification Report:\n",
      "               precision    recall  f1-score   support\n",
      "\n",
      "           0       0.38      0.16      0.23      4721\n",
      "           1       0.44      0.50      0.47     15628\n",
      "           2       0.42      0.66      0.52     17498\n",
      "           3       0.42      0.23      0.29     11032\n",
      "           4       0.17      0.00      0.01      2349\n",
      "           5       0.40      0.50      0.44      7004\n",
      "           6       0.00      0.00      0.00       549\n",
      "           7       0.39      0.04      0.07      2051\n",
      "           8       0.38      0.23      0.29       967\n",
      "           9       0.26      0.03      0.05       553\n",
      "          10       0.56      0.42      0.48      1336\n",
      "\n",
      "    accuracy                           0.42     63688\n",
      "   macro avg       0.35      0.25      0.26     63688\n",
      "weighted avg       0.41      0.42      0.39     63688\n",
      "\n",
      "Confusion Matrix:\n",
      " [[  759  2289  1624    29     3    14     0     0     1     0     2]\n",
      " [  433  7877  6124   705     4   473     1     4     3     1     3]\n",
      " [  345  4962 11585   266     8   276     1     6    27     1    21]\n",
      " [  212  1746  4672  2485    14  1842     0    18    17     5    21]\n",
      " [   81   402  1522   142     8   159     1     6     7     7    14]\n",
      " [  100   478  1067  1575     5  3468     5    25   153     7   121]\n",
      " [   21    67   307    46     2    86     0     2     3     3    12]\n",
      " [   33    97   206   377     1  1116     3    81    32     2   103]\n",
      " [    9    31    46    92     0   471     1     5   222     1    89]\n",
      " [    2    27    57    87     1   288     0    16    10    15    50]\n",
      " [   22    46    70    73     2   399     1    44   105    16   558]]\n"
     ]
    }
   ],
   "source": [
    "y_pred = xgb_clf.predict(X_test_scaled)\n",
    "\n",
    "# Evaluation\n",
    "accuracy = accuracy_score(y_test, y_pred)\n",
    "print(f\"Accuracy: {accuracy:.4f}\")\n",
    "\n",
    "print(\"Classification Report:\\n\", classification_report(y_test, y_pred))\n",
    "print(\"Confusion Matrix:\\n\", confusion_matrix(y_test, y_pred))"
   ]
  },
  {
   "cell_type": "code",
   "execution_count": 56,
   "id": "c71382f1-81d0-4432-8a13-54273d79be96",
   "metadata": {},
   "outputs": [],
   "source": [
    "import optuna\n",
    "from sklearn.model_selection import StratifiedKFold"
   ]
  },
  {
   "cell_type": "code",
   "execution_count": 57,
   "id": "458e7e64-b84d-4f36-8289-b5ab87c85b9b",
   "metadata": {},
   "outputs": [],
   "source": [
    "def objective(trial):\n",
    "    params = {\n",
    "        \"objective\": \"multi:softmax\",\n",
    "        \"num_class\": len(set(y_train)),\n",
    "        \"eval_metric\": \"mlogloss\",\n",
    "        \"max_depth\": trial.suggest_int(\"max_depth\", 3, 10),\n",
    "        \"learning_rate\": trial.suggest_float(\"learning_rate\", 0.01, 0.3, log=True),\n",
    "        \"n_estimators\": trial.suggest_int(\"n_estimators\", 50, 300),\n",
    "        \"subsample\": trial.suggest_float(\"subsample\", 0.5, 1.0),\n",
    "        \"colsample_bytree\": trial.suggest_float(\"colsample_bytree\", 0.5, 1.0),\n",
    "        \"reg_lambda\": trial.suggest_float(\"reg_lambda\", 1e-5, 10.0, log=True),\n",
    "        \"reg_alpha\": trial.suggest_float(\"reg_alpha\", 1e-5, 10.0, log=True),\n",
    "    }\n",
    "\n",
    "    # Cross-validation\n",
    "    skf = StratifiedKFold(n_splits=3, shuffle=True, random_state=42)\n",
    "    acc_scores = []\n",
    "\n",
    "    for train_idx, valid_idx in skf.split(X_train_scaled, y_train):\n",
    "        X_train_fold, X_valid_fold = X_train_scaled[train_idx], X_train_scaled[valid_idx]\n",
    "        y_train_fold, y_valid_fold = y_train[train_idx], y_train[valid_idx]\n",
    "\n",
    "        model = xgb.XGBClassifier(**params)\n",
    "        model.fit(X_train_fold, y_train_fold)\n",
    "\n",
    "        y_pred = model.predict(X_valid_fold)\n",
    "        acc_scores.append(accuracy_score(y_valid_fold, y_pred))\n",
    "\n",
    "    return sum(acc_scores) / len(acc_scores)"
   ]
  },
  {
   "cell_type": "code",
   "execution_count": 58,
   "id": "443c5080-73c7-434f-943d-7c0b5976b565",
   "metadata": {},
   "outputs": [
    {
     "name": "stdout",
     "output_type": "stream",
     "text": [
      "Class distribution in y_train: [18883 62511 69993 44127  9394 28014  2195  8203  3871  2212  5347]\n",
      "Class distribution in y_test: [ 4721 15628 17498 11032  2349  7004   549  2051   967   553  1336]\n"
     ]
    }
   ],
   "source": [
    "train_counts = np.bincount(y_train)\n",
    "test_counts = np.bincount(y_test)\n",
    "\n",
    "print(\"Class distribution in y_train:\", train_counts)\n",
    "print(\"Class distribution in y_test:\", test_counts)"
   ]
  },
  {
   "cell_type": "code",
   "execution_count": 59,
   "id": "ae6285d4-6a7c-4d71-87ea-fe5dbd486673",
   "metadata": {},
   "outputs": [
    {
     "name": "stdout",
     "output_type": "stream",
     "text": [
      "y_train unique values: [ 0  1  2  3  4  5  6  7  8  9 10]\n",
      "y_test unique values: [ 0  1  2  3  4  5  6  7  8  9 10]\n"
     ]
    }
   ],
   "source": [
    "print(\"y_train unique values:\", np.unique(y_train))\n",
    "print(\"y_test unique values:\", np.unique(y_test))"
   ]
  },
  {
   "cell_type": "code",
   "execution_count": 60,
   "id": "06c3bed4-847b-4d07-8aeb-960f2f05bf27",
   "metadata": {},
   "outputs": [],
   "source": [
    "y_train = np.array(y_train).ravel()\n",
    "y_test = np.array(y_test).ravel()"
   ]
  },
  {
   "cell_type": "code",
   "execution_count": 61,
   "id": "f7ff6eaa-b123-4fc9-bb78-d729199f9a1d",
   "metadata": {},
   "outputs": [
    {
     "name": "stderr",
     "output_type": "stream",
     "text": [
      "[I 2025-02-25 13:36:28,152] A new study created in memory with name: no-name-b07025a5-2e62-41a5-85bb-fa9a1d406900\n",
      "[I 2025-02-25 13:37:10,521] Trial 0 finished with value: 0.42037684398149405 and parameters: {'max_depth': 4, 'learning_rate': 0.2573659867403731, 'n_estimators': 191, 'subsample': 0.5158209719266409, 'colsample_bytree': 0.8625268089373075, 'reg_lambda': 0.0025593562741458124, 'reg_alpha': 0.23110363091252106}. Best is trial 0 with value: 0.42037684398149405.\n",
      "[I 2025-02-25 13:37:37,055] Trial 1 finished with value: 0.41680864217104013 and parameters: {'max_depth': 10, 'learning_rate': 0.19722011848013055, 'n_estimators': 68, 'subsample': 0.8443036614876025, 'colsample_bytree': 0.7517293906480875, 'reg_lambda': 0.16292016553102137, 'reg_alpha': 0.015891032680446504}. Best is trial 0 with value: 0.42037684398149405.\n",
      "[I 2025-02-25 13:38:15,567] Trial 2 finished with value: 0.419218854696456 and parameters: {'max_depth': 10, 'learning_rate': 0.010869606904122019, 'n_estimators': 95, 'subsample': 0.8374409953357107, 'colsample_bytree': 0.6539577874889992, 'reg_lambda': 0.0004198641282040103, 'reg_alpha': 5.6985160588642316e-05}. Best is trial 0 with value: 0.42037684398149405.\n",
      "[I 2025-02-25 13:39:19,807] Trial 3 finished with value: 0.4231953049831468 and parameters: {'max_depth': 7, 'learning_rate': 0.036534417744061035, 'n_estimators': 222, 'subsample': 0.6355853307423129, 'colsample_bytree': 0.7347651058873179, 'reg_lambda': 0.10587391004638214, 'reg_alpha': 0.00021234463419594015}. Best is trial 3 with value: 0.4231953049831468.\n",
      "[I 2025-02-25 13:40:34,233] Trial 4 finished with value: 0.4210559446642394 and parameters: {'max_depth': 5, 'learning_rate': 0.22844619973998387, 'n_estimators': 296, 'subsample': 0.81300386772604, 'colsample_bytree': 0.9176485628409768, 'reg_lambda': 4.921662162240141e-05, 'reg_alpha': 0.007173440759244999}. Best is trial 3 with value: 0.4231953049831468.\n",
      "[I 2025-02-25 13:41:56,841] Trial 5 finished with value: 0.4012325825303973 and parameters: {'max_depth': 8, 'learning_rate': 0.265388612767801, 'n_estimators': 237, 'subsample': 0.6338612728040817, 'colsample_bytree': 0.7643795412302188, 'reg_lambda': 8.822696582146652e-05, 'reg_alpha': 0.00042014476165220507}. Best is trial 3 with value: 0.4231953049831468.\n",
      "[I 2025-02-25 13:43:08,908] Trial 6 finished with value: 0.42175074330172807 and parameters: {'max_depth': 7, 'learning_rate': 0.1487632567400093, 'n_estimators': 225, 'subsample': 0.7708190898548215, 'colsample_bytree': 0.7535038263506453, 'reg_lambda': 0.0011446787656509457, 'reg_alpha': 0.07911969701551774}. Best is trial 3 with value: 0.4231953049831468.\n",
      "[I 2025-02-25 13:43:36,632] Trial 7 finished with value: 0.4208871558595861 and parameters: {'max_depth': 7, 'learning_rate': 0.08534615943298254, 'n_estimators': 89, 'subsample': 0.874664234002641, 'colsample_bytree': 0.5172334875552183, 'reg_lambda': 0.2970791302835571, 'reg_alpha': 0.22897778508337951}. Best is trial 3 with value: 0.4231953049831468.\n",
      "[I 2025-02-25 13:44:19,566] Trial 8 finished with value: 0.42025124106693784 and parameters: {'max_depth': 5, 'learning_rate': 0.08839385081387081, 'n_estimators': 166, 'subsample': 0.859967701067506, 'colsample_bytree': 0.5260633000011413, 'reg_lambda': 0.023921334292342708, 'reg_alpha': 1.3143273184470457e-05}. Best is trial 3 with value: 0.4231953049831468.\n",
      "[I 2025-02-25 13:45:16,692] Trial 9 finished with value: 0.4199372014448454 and parameters: {'max_depth': 7, 'learning_rate': 0.20447953371412025, 'n_estimators': 194, 'subsample': 0.911608187502116, 'colsample_bytree': 0.7889124218912112, 'reg_lambda': 0.0001687671252090577, 'reg_alpha': 0.0007480900283886341}. Best is trial 3 with value: 0.4231953049831468.\n",
      "[I 2025-02-25 13:46:27,234] Trial 10 finished with value: 0.40073799121199255 and parameters: {'max_depth': 3, 'learning_rate': 0.02147792924336149, 'n_estimators': 300, 'subsample': 0.6627589352703074, 'colsample_bytree': 0.6251395882531011, 'reg_lambda': 4.118075029670314, 'reg_alpha': 9.535606832542872}. Best is trial 3 with value: 0.4231953049831468.\n",
      "[I 2025-02-25 13:47:48,741] Trial 11 finished with value: 0.4247262151464126 and parameters: {'max_depth': 8, 'learning_rate': 0.036929984393331804, 'n_estimators': 244, 'subsample': 0.7212781399746578, 'colsample_bytree': 0.6837237314834532, 'reg_lambda': 0.006237926313153303, 'reg_alpha': 0.03372446037333415}. Best is trial 11 with value: 0.4247262151464126.\n",
      "[I 2025-02-25 13:49:25,447] Trial 12 finished with value: 0.42436507773080506 and parameters: {'max_depth': 9, 'learning_rate': 0.029700882226798904, 'n_estimators': 252, 'subsample': 0.666156994912103, 'colsample_bytree': 0.6575477281171586, 'reg_lambda': 0.019827989857279918, 'reg_alpha': 0.0013502314621125838}. Best is trial 11 with value: 0.4247262151464126.\n",
      "[I 2025-02-25 13:50:56,538] Trial 13 finished with value: 0.4244867635645328 and parameters: {'max_depth': 9, 'learning_rate': 0.036246296399349856, 'n_estimators': 258, 'subsample': 0.7081613359739278, 'colsample_bytree': 0.6462807473623209, 'reg_lambda': 0.008449750399567227, 'reg_alpha': 0.002325571522125123}. Best is trial 11 with value: 0.4247262151464126.\n",
      "[I 2025-02-25 13:51:45,413] Trial 14 finished with value: 0.4239293550485977 and parameters: {'max_depth': 9, 'learning_rate': 0.05124972121972729, 'n_estimators': 147, 'subsample': 0.9739645594819775, 'colsample_bytree': 0.5813907685433042, 'reg_lambda': 0.008614580543855603, 'reg_alpha': 2.585486896739134}. Best is trial 11 with value: 0.4247262151464126.\n",
      "[I 2025-02-25 13:53:26,025] Trial 15 finished with value: 0.42476939618268733 and parameters: {'max_depth': 9, 'learning_rate': 0.019940348173089126, 'n_estimators': 266, 'subsample': 0.713353814631179, 'colsample_bytree': 0.6887156217942323, 'reg_lambda': 1.6463779911980967, 'reg_alpha': 0.006193042212755174}. Best is trial 15 with value: 0.42476939618268733.\n",
      "[I 2025-02-25 13:55:09,554] Trial 16 finished with value: 0.423662428243756 and parameters: {'max_depth': 8, 'learning_rate': 0.01720399843802146, 'n_estimators': 275, 'subsample': 0.559226280971076, 'colsample_bytree': 0.9840016406827299, 'reg_lambda': 1.0589864614623808e-05, 'reg_alpha': 0.026863803100594646}. Best is trial 15 with value: 0.42476939618268733.\n",
      "[I 2025-02-25 13:55:57,376] Trial 17 finished with value: 0.41853583004507716 and parameters: {'max_depth': 8, 'learning_rate': 0.011864176108814867, 'n_estimators': 137, 'subsample': 0.7470847068978874, 'colsample_bytree': 0.866414747868799, 'reg_lambda': 6.6678739656188295, 'reg_alpha': 0.9664645856795375}. Best is trial 15 with value: 0.42476939618268733.\n",
      "[I 2025-02-25 13:57:00,295] Trial 18 finished with value: 0.416722292163706 and parameters: {'max_depth': 6, 'learning_rate': 0.01890392087697096, 'n_estimators': 209, 'subsample': 0.5786514790345807, 'colsample_bytree': 0.711676126971457, 'reg_lambda': 1.232115176140148, 'reg_alpha': 0.0053840061365378975}. Best is trial 15 with value: 0.42476939618268733.\n",
      "[I 2025-02-25 13:58:53,126] Trial 19 finished with value: 0.42311678530063884 and parameters: {'max_depth': 10, 'learning_rate': 0.062104332915905634, 'n_estimators': 273, 'subsample': 0.738520372610991, 'colsample_bytree': 0.5819960610539644, 'reg_lambda': 1.6162532519329875, 'reg_alpha': 0.05126176440166351}. Best is trial 15 with value: 0.42476939618268733.\n",
      "[I 2025-02-25 14:00:28,192] Trial 20 finished with value: 0.4244828383940005 and parameters: {'max_depth': 9, 'learning_rate': 0.027295250043125975, 'n_estimators': 251, 'subsample': 0.7793870150536115, 'colsample_bytree': 0.8230535713758635, 'reg_lambda': 0.484644439351925, 'reg_alpha': 0.2546423779759712}. Best is trial 15 with value: 0.42476939618268733.\n",
      "[I 2025-02-25 14:02:12,361] Trial 21 finished with value: 0.42409029402068193 and parameters: {'max_depth': 9, 'learning_rate': 0.04156195374856058, 'n_estimators': 269, 'subsample': 0.6753459344433486, 'colsample_bytree': 0.6808677130628392, 'reg_lambda': 0.006216103082512057, 'reg_alpha': 0.004619631835495934}. Best is trial 15 with value: 0.42476939618268733.\n",
      "[I 2025-02-25 14:03:44,552] Trial 22 finished with value: 0.4203179745594398 and parameters: {'max_depth': 8, 'learning_rate': 0.014436409412641594, 'n_estimators': 253, 'subsample': 0.7152766213038909, 'colsample_bytree': 0.581768021920213, 'reg_lambda': 0.05412441349015088, 'reg_alpha': 0.0017732542853119038}. Best is trial 15 with value: 0.42476939618268733.\n",
      "[I 2025-02-25 14:05:35,768] Trial 23 finished with value: 0.4250755778362801 and parameters: {'max_depth': 9, 'learning_rate': 0.025787177653404242, 'n_estimators': 284, 'subsample': 0.7236881829150127, 'colsample_bytree': 0.6892645986638476, 'reg_lambda': 0.002449878112255661, 'reg_alpha': 0.002264755058398006}. Best is trial 23 with value: 0.4250755778362801.\n",
      "[I 2025-02-25 14:07:18,890] Trial 24 finished with value: 0.4250873547809104 and parameters: {'max_depth': 8, 'learning_rate': 0.02494607598555621, 'n_estimators': 286, 'subsample': 0.7958802861665262, 'colsample_bytree': 0.7036807919606924, 'reg_lambda': 0.0014771209725641977, 'reg_alpha': 0.000132423801201526}. Best is trial 24 with value: 0.4250873547809104.\n",
      "[I 2025-02-25 14:09:11,575] Trial 25 finished with value: 0.42458882091066674 and parameters: {'max_depth': 10, 'learning_rate': 0.023742778570994365, 'n_estimators': 284, 'subsample': 0.7927684987345492, 'colsample_bytree': 0.7169359506603583, 'reg_lambda': 0.0011344717841291524, 'reg_alpha': 0.0001265716936916787}. Best is trial 24 with value: 0.4250873547809104.\n",
      "[I 2025-02-25 14:10:31,608] Trial 26 finished with value: 0.41780570450298243 and parameters: {'max_depth': 6, 'learning_rate': 0.014977814329330817, 'n_estimators': 288, 'subsample': 0.9178710448833021, 'colsample_bytree': 0.8040858616547728, 'reg_lambda': 0.0004497530121937429, 'reg_alpha': 2.2802599716213877e-05}. Best is trial 24 with value: 0.4250873547809104.\n",
      "[I 2025-02-25 14:11:55,176] Trial 27 finished with value: 0.4244553616455516 and parameters: {'max_depth': 9, 'learning_rate': 0.025316300508671664, 'n_estimators': 227, 'subsample': 0.8115212695553898, 'colsample_bytree': 0.6245364707336073, 'reg_lambda': 0.001543695978879785, 'reg_alpha': 7.64348189802865e-05}. Best is trial 24 with value: 0.4250873547809104.\n",
      "[I 2025-02-25 14:13:35,220] Trial 28 finished with value: 0.42431011531211976 and parameters: {'max_depth': 8, 'learning_rate': 0.05721819520920088, 'n_estimators': 300, 'subsample': 0.6129600279092762, 'colsample_bytree': 0.6972063836547947, 'reg_lambda': 0.042675701639788115, 'reg_alpha': 0.00029627417363684597}. Best is trial 24 with value: 0.4250873547809104.\n",
      "[I 2025-02-25 14:15:32,549] Trial 29 finished with value: 0.4246084505539325 and parameters: {'max_depth': 10, 'learning_rate': 0.019554328833749475, 'n_estimators': 266, 'subsample': 0.6896045028722679, 'colsample_bytree': 0.6091157478248588, 'reg_lambda': 0.0030101793255165104, 'reg_alpha': 0.0007019505868707338}. Best is trial 24 with value: 0.4250873547809104.\n",
      "[I 2025-02-25 14:16:48,905] Trial 30 finished with value: 0.4248675303460448 and parameters: {'max_depth': 9, 'learning_rate': 0.030454275467035528, 'n_estimators': 200, 'subsample': 0.7500525088053485, 'colsample_bytree': 0.8473374739181694, 'reg_lambda': 0.00028153411257495213, 'reg_alpha': 4.509374804942674e-05}. Best is trial 24 with value: 0.4250873547809104.\n",
      "[I 2025-02-25 14:18:00,168] Trial 31 finished with value: 0.4247183628175922 and parameters: {'max_depth': 9, 'learning_rate': 0.029251751456379968, 'n_estimators': 177, 'subsample': 0.7597821351234149, 'colsample_bytree': 0.8493890097077562, 'reg_lambda': 0.0003999691458694628, 'reg_alpha': 3.606866062821191e-05}. Best is trial 24 with value: 0.4250873547809104.\n",
      "[I 2025-02-25 14:19:36,018] Trial 32 finished with value: 0.4242983405401528 and parameters: {'max_depth': 10, 'learning_rate': 0.014620819671314652, 'n_estimators': 211, 'subsample': 0.7377284108251322, 'colsample_bytree': 0.8923916931342145, 'reg_lambda': 0.0028192273165824357, 'reg_alpha': 0.00013259735223620188}. Best is trial 24 with value: 0.4250873547809104.\n",
      "[I 2025-02-25 14:20:31,273] Trial 33 finished with value: 0.42375270975470486 and parameters: {'max_depth': 9, 'learning_rate': 0.031537033104795775, 'n_estimators': 133, 'subsample': 0.8221913806550778, 'colsample_bytree': 0.9359811660247084, 'reg_lambda': 0.00024226832718940162, 'reg_alpha': 2.604025092022334e-05}. Best is trial 24 with value: 0.4250873547809104.\n",
      "[I 2025-02-25 14:22:18,462] Trial 34 finished with value: 0.42159765744432126 and parameters: {'max_depth': 8, 'learning_rate': 0.01018393603618661, 'n_estimators': 279, 'subsample': 0.5086004968415928, 'colsample_bytree': 0.7748391924759938, 'reg_lambda': 2.0777512585142844e-05, 'reg_alpha': 1.1975008776485067e-05}. Best is trial 24 with value: 0.4250873547809104.\n",
      "[I 2025-02-25 14:23:46,862] Trial 35 finished with value: 0.4239686018076449 and parameters: {'max_depth': 10, 'learning_rate': 0.04149185660854731, 'n_estimators': 198, 'subsample': 0.7862410825384885, 'colsample_bytree': 0.7250663989510705, 'reg_lambda': 0.0007031601012900788, 'reg_alpha': 0.014946221378933}. Best is trial 24 with value: 0.4250873547809104.\n",
      "[I 2025-02-25 14:24:59,957] Trial 36 finished with value: 0.42196664820574065 and parameters: {'max_depth': 7, 'learning_rate': 0.021844303384685713, 'n_estimators': 233, 'subsample': 0.7019970918628192, 'colsample_bytree': 0.7404847666042662, 'reg_lambda': 5.695062282058147e-05, 'reg_alpha': 5.567685232080761e-05}. Best is trial 24 with value: 0.4250873547809104.\n",
      "[I 2025-02-25 14:25:19,755] Trial 37 finished with value: 0.42202945282956 and parameters: {'max_depth': 9, 'learning_rate': 0.049333944539788926, 'n_estimators': 53, 'subsample': 0.6321012646755362, 'colsample_bytree': 0.8255281208975618, 'reg_lambda': 0.002407923624214006, 'reg_alpha': 0.0004837991867328772}. Best is trial 24 with value: 0.4250873547809104.\n",
      "[I 2025-02-25 14:27:18,891] Trial 38 finished with value: 0.4243886234841348 and parameters: {'max_depth': 10, 'learning_rate': 0.024608003354339037, 'n_estimators': 287, 'subsample': 0.848460782745253, 'colsample_bytree': 0.6589335491591106, 'reg_lambda': 0.00011878088745167866, 'reg_alpha': 0.0001691956359430791}. Best is trial 24 with value: 0.4250873547809104.\n",
      "[I 2025-02-25 14:27:55,538] Trial 39 finished with value: 0.4238940258788746 and parameters: {'max_depth': 8, 'learning_rate': 0.06862423179844948, 'n_estimators': 108, 'subsample': 0.8120046461197417, 'colsample_bytree': 0.772374638883265, 'reg_lambda': 0.09913477106697417, 'reg_alpha': 0.003653477629028482}. Best is trial 24 with value: 0.4250873547809104.\n",
      "[I 2025-02-25 14:28:46,605] Trial 40 finished with value: 0.41161532263752854 and parameters: {'max_depth': 6, 'learning_rate': 0.012062459367771814, 'n_estimators': 182, 'subsample': 0.885898918106928, 'colsample_bytree': 0.545617072705757, 'reg_lambda': 0.021450271266368757, 'reg_alpha': 0.009583108649488066}. Best is trial 24 with value: 0.4250873547809104.\n",
      "[I 2025-02-25 14:30:19,304] Trial 41 finished with value: 0.42453387101946566 and parameters: {'max_depth': 8, 'learning_rate': 0.03764465790047204, 'n_estimators': 238, 'subsample': 0.7258298908824369, 'colsample_bytree': 0.6799024840223401, 'reg_lambda': 0.003545307918935942, 'reg_alpha': 0.02766528698649801}. Best is trial 24 with value: 0.4250873547809104.\n",
      "[I 2025-02-25 14:31:42,381] Trial 42 finished with value: 0.4233640960066903 and parameters: {'max_depth': 7, 'learning_rate': 0.0337225361494876, 'n_estimators': 243, 'subsample': 0.7623800500269786, 'colsample_bytree': 0.6967118776003131, 'reg_lambda': 0.0007241217618059547, 'reg_alpha': 0.12537313023162372}. Best is trial 24 with value: 0.4250873547809104.\n",
      "[I 2025-02-25 14:33:01,990] Trial 43 finished with value: 0.41936408609860604 and parameters: {'max_depth': 8, 'learning_rate': 0.13445106256686687, 'n_estimators': 218, 'subsample': 0.6870237500707126, 'colsample_bytree': 0.7560981262433091, 'reg_lambda': 0.0002219265273803521, 'reg_alpha': 0.026539184274057416}. Best is trial 24 with value: 0.4250873547809104.\n",
      "[I 2025-02-25 14:34:48,222] Trial 44 finished with value: 0.42381551507192733 and parameters: {'max_depth': 9, 'learning_rate': 0.0448071647582195, 'n_estimators': 266, 'subsample': 0.6551810054006452, 'colsample_bytree': 0.674708724452912, 'reg_lambda': 0.006092121802437941, 'reg_alpha': 0.014127242984246011}. Best is trial 24 with value: 0.4250873547809104.\n",
      "[I 2025-02-25 14:36:27,981] Trial 45 finished with value: 0.4234897102930588 and parameters: {'max_depth': 8, 'learning_rate': 0.018140918594556917, 'n_estimators': 261, 'subsample': 0.7299683484179974, 'colsample_bytree': 0.7355950861150571, 'reg_lambda': 0.019406062358026804, 'reg_alpha': 0.0010744043901534171}. Best is trial 24 with value: 0.4250873547809104.\n",
      "[I 2025-02-25 14:37:58,057] Trial 46 finished with value: 0.4231364236807847 and parameters: {'max_depth': 7, 'learning_rate': 0.032534797812279394, 'n_estimators': 245, 'subsample': 0.791968135967377, 'colsample_bytree': 0.6390424460386349, 'reg_lambda': 0.0014738516210935602, 'reg_alpha': 0.003117698120700544}. Best is trial 24 with value: 0.4250873547809104.\n",
      "[I 2025-02-25 14:39:20,670] Trial 47 finished with value: 0.4177429000178437 and parameters: {'max_depth': 5, 'learning_rate': 0.02766712845536625, 'n_estimators': 292, 'subsample': 0.7601698283591982, 'colsample_bytree': 0.7080590262943225, 'reg_lambda': 0.010921861482711705, 'reg_alpha': 0.00024229259087619125}. Best is trial 24 with value: 0.4250873547809104.\n",
      "[I 2025-02-25 14:40:35,203] Trial 48 finished with value: 0.42272817848665617 and parameters: {'max_depth': 9, 'learning_rate': 0.020476924476045977, 'n_estimators': 167, 'subsample': 0.7016865097977733, 'colsample_bytree': 0.6128718392018816, 'reg_lambda': 0.0006637892901684878, 'reg_alpha': 0.06375684007005172}. Best is trial 24 with value: 0.4250873547809104.\n",
      "[I 2025-02-25 14:42:25,673] Trial 49 finished with value: 0.423242406567266 and parameters: {'max_depth': 9, 'learning_rate': 0.01639570949628743, 'n_estimators': 279, 'subsample': 0.6457859686748036, 'colsample_bytree': 0.6665324971982746, 'reg_lambda': 0.004468204551649582, 'reg_alpha': 0.1968001386313143}. Best is trial 24 with value: 0.4250873547809104.\n"
     ]
    }
   ],
   "source": [
    "study = optuna.create_study(direction=\"maximize\")\n",
    "study.optimize(objective, n_trials=50)"
   ]
  },
  {
   "cell_type": "code",
   "execution_count": 62,
   "id": "827b3573-3fc7-4541-8665-64bc01bffb6a",
   "metadata": {},
   "outputs": [
    {
     "name": "stdout",
     "output_type": "stream",
     "text": [
      "Best Parameters: {'max_depth': 8, 'learning_rate': 0.02494607598555621, 'n_estimators': 286, 'subsample': 0.7958802861665262, 'colsample_bytree': 0.7036807919606924, 'reg_lambda': 0.0014771209725641977, 'reg_alpha': 0.000132423801201526}\n"
     ]
    }
   ],
   "source": [
    "best_params = study.best_params\n",
    "print(\"Best Parameters:\", best_params)"
   ]
  },
  {
   "cell_type": "code",
   "execution_count": 63,
   "id": "c71ac5b4-1122-4d60-b684-f882bf658f16",
   "metadata": {},
   "outputs": [
    {
     "data": {
      "text/html": [
       "<style>#sk-container-id-4 {color: black;}#sk-container-id-4 pre{padding: 0;}#sk-container-id-4 div.sk-toggleable {background-color: white;}#sk-container-id-4 label.sk-toggleable__label {cursor: pointer;display: block;width: 100%;margin-bottom: 0;padding: 0.3em;box-sizing: border-box;text-align: center;}#sk-container-id-4 label.sk-toggleable__label-arrow:before {content: \"▸\";float: left;margin-right: 0.25em;color: #696969;}#sk-container-id-4 label.sk-toggleable__label-arrow:hover:before {color: black;}#sk-container-id-4 div.sk-estimator:hover label.sk-toggleable__label-arrow:before {color: black;}#sk-container-id-4 div.sk-toggleable__content {max-height: 0;max-width: 0;overflow: hidden;text-align: left;background-color: #f0f8ff;}#sk-container-id-4 div.sk-toggleable__content pre {margin: 0.2em;color: black;border-radius: 0.25em;background-color: #f0f8ff;}#sk-container-id-4 input.sk-toggleable__control:checked~div.sk-toggleable__content {max-height: 200px;max-width: 100%;overflow: auto;}#sk-container-id-4 input.sk-toggleable__control:checked~label.sk-toggleable__label-arrow:before {content: \"▾\";}#sk-container-id-4 div.sk-estimator input.sk-toggleable__control:checked~label.sk-toggleable__label {background-color: #d4ebff;}#sk-container-id-4 div.sk-label input.sk-toggleable__control:checked~label.sk-toggleable__label {background-color: #d4ebff;}#sk-container-id-4 input.sk-hidden--visually {border: 0;clip: rect(1px 1px 1px 1px);clip: rect(1px, 1px, 1px, 1px);height: 1px;margin: -1px;overflow: hidden;padding: 0;position: absolute;width: 1px;}#sk-container-id-4 div.sk-estimator {font-family: monospace;background-color: #f0f8ff;border: 1px dotted black;border-radius: 0.25em;box-sizing: border-box;margin-bottom: 0.5em;}#sk-container-id-4 div.sk-estimator:hover {background-color: #d4ebff;}#sk-container-id-4 div.sk-parallel-item::after {content: \"\";width: 100%;border-bottom: 1px solid gray;flex-grow: 1;}#sk-container-id-4 div.sk-label:hover label.sk-toggleable__label {background-color: #d4ebff;}#sk-container-id-4 div.sk-serial::before {content: \"\";position: absolute;border-left: 1px solid gray;box-sizing: border-box;top: 0;bottom: 0;left: 50%;z-index: 0;}#sk-container-id-4 div.sk-serial {display: flex;flex-direction: column;align-items: center;background-color: white;padding-right: 0.2em;padding-left: 0.2em;position: relative;}#sk-container-id-4 div.sk-item {position: relative;z-index: 1;}#sk-container-id-4 div.sk-parallel {display: flex;align-items: stretch;justify-content: center;background-color: white;position: relative;}#sk-container-id-4 div.sk-item::before, #sk-container-id-4 div.sk-parallel-item::before {content: \"\";position: absolute;border-left: 1px solid gray;box-sizing: border-box;top: 0;bottom: 0;left: 50%;z-index: -1;}#sk-container-id-4 div.sk-parallel-item {display: flex;flex-direction: column;z-index: 1;position: relative;background-color: white;}#sk-container-id-4 div.sk-parallel-item:first-child::after {align-self: flex-end;width: 50%;}#sk-container-id-4 div.sk-parallel-item:last-child::after {align-self: flex-start;width: 50%;}#sk-container-id-4 div.sk-parallel-item:only-child::after {width: 0;}#sk-container-id-4 div.sk-dashed-wrapped {border: 1px dashed gray;margin: 0 0.4em 0.5em 0.4em;box-sizing: border-box;padding-bottom: 0.4em;background-color: white;}#sk-container-id-4 div.sk-label label {font-family: monospace;font-weight: bold;display: inline-block;line-height: 1.2em;}#sk-container-id-4 div.sk-label-container {text-align: center;}#sk-container-id-4 div.sk-container {/* jupyter's `normalize.less` sets `[hidden] { display: none; }` but bootstrap.min.css set `[hidden] { display: none !important; }` so we also need the `!important` here to be able to override the default hidden behavior on the sphinx rendered scikit-learn.org. See: https://github.com/scikit-learn/scikit-learn/issues/21755 */display: inline-block !important;position: relative;}#sk-container-id-4 div.sk-text-repr-fallback {display: none;}</style><div id=\"sk-container-id-4\" class=\"sk-top-container\"><div class=\"sk-text-repr-fallback\"><pre>XGBClassifier(base_score=None, booster=None, callbacks=None,\n",
       "              colsample_bylevel=None, colsample_bynode=None,\n",
       "              colsample_bytree=0.7036807919606924, device=None,\n",
       "              early_stopping_rounds=None, enable_categorical=False,\n",
       "              eval_metric=None, feature_types=None, gamma=None,\n",
       "              grow_policy=None, importance_type=None,\n",
       "              interaction_constraints=None, learning_rate=0.02494607598555621,\n",
       "              max_bin=None, max_cat_threshold=None, max_cat_to_onehot=None,\n",
       "              max_delta_step=None, max_depth=8, max_leaves=None,\n",
       "              min_child_weight=None, missing=nan, monotone_constraints=None,\n",
       "              multi_strategy=None, n_estimators=286, n_jobs=None,\n",
       "              num_parallel_tree=None, objective=&#x27;multi:softprob&#x27;, ...)</pre><b>In a Jupyter environment, please rerun this cell to show the HTML representation or trust the notebook. <br />On GitHub, the HTML representation is unable to render, please try loading this page with nbviewer.org.</b></div><div class=\"sk-container\" hidden><div class=\"sk-item\"><div class=\"sk-estimator sk-toggleable\"><input class=\"sk-toggleable__control sk-hidden--visually\" id=\"sk-estimator-id-4\" type=\"checkbox\" checked><label for=\"sk-estimator-id-4\" class=\"sk-toggleable__label sk-toggleable__label-arrow\">XGBClassifier</label><div class=\"sk-toggleable__content\"><pre>XGBClassifier(base_score=None, booster=None, callbacks=None,\n",
       "              colsample_bylevel=None, colsample_bynode=None,\n",
       "              colsample_bytree=0.7036807919606924, device=None,\n",
       "              early_stopping_rounds=None, enable_categorical=False,\n",
       "              eval_metric=None, feature_types=None, gamma=None,\n",
       "              grow_policy=None, importance_type=None,\n",
       "              interaction_constraints=None, learning_rate=0.02494607598555621,\n",
       "              max_bin=None, max_cat_threshold=None, max_cat_to_onehot=None,\n",
       "              max_delta_step=None, max_depth=8, max_leaves=None,\n",
       "              min_child_weight=None, missing=nan, monotone_constraints=None,\n",
       "              multi_strategy=None, n_estimators=286, n_jobs=None,\n",
       "              num_parallel_tree=None, objective=&#x27;multi:softprob&#x27;, ...)</pre></div></div></div></div></div>"
      ],
      "text/plain": [
       "XGBClassifier(base_score=None, booster=None, callbacks=None,\n",
       "              colsample_bylevel=None, colsample_bynode=None,\n",
       "              colsample_bytree=0.7036807919606924, device=None,\n",
       "              early_stopping_rounds=None, enable_categorical=False,\n",
       "              eval_metric=None, feature_types=None, gamma=None,\n",
       "              grow_policy=None, importance_type=None,\n",
       "              interaction_constraints=None, learning_rate=0.02494607598555621,\n",
       "              max_bin=None, max_cat_threshold=None, max_cat_to_onehot=None,\n",
       "              max_delta_step=None, max_depth=8, max_leaves=None,\n",
       "              min_child_weight=None, missing=nan, monotone_constraints=None,\n",
       "              multi_strategy=None, n_estimators=286, n_jobs=None,\n",
       "              num_parallel_tree=None, objective='multi:softprob', ...)"
      ]
     },
     "execution_count": 63,
     "metadata": {},
     "output_type": "execute_result"
    }
   ],
   "source": [
    "best_xgb_clf = xgb.XGBClassifier(**best_params)\n",
    "best_xgb_clf.fit(X_train_scaled, y_train)"
   ]
  },
  {
   "cell_type": "code",
   "execution_count": 64,
   "id": "59d6bc5a-fa6b-44bf-b05d-67df7805845f",
   "metadata": {},
   "outputs": [
    {
     "name": "stdout",
     "output_type": "stream",
     "text": [
      "Final Accuracy: 0.4266\n",
      "Classification Report:\n",
      "               precision    recall  f1-score   support\n",
      "\n",
      "           0       0.39      0.13      0.19      4721\n",
      "           1       0.43      0.51      0.47     15628\n",
      "           2       0.42      0.67      0.52     17498\n",
      "           3       0.43      0.24      0.31     11032\n",
      "           4       0.11      0.00      0.00      2349\n",
      "           5       0.41      0.50      0.45      7004\n",
      "           6       0.00      0.00      0.00       549\n",
      "           7       0.45      0.03      0.05      2051\n",
      "           8       0.43      0.18      0.26       967\n",
      "           9       0.29      0.01      0.02       553\n",
      "          10       0.57      0.41      0.48      1336\n",
      "\n",
      "    accuracy                           0.43     63688\n",
      "   macro avg       0.36      0.24      0.25     63688\n",
      "weighted avg       0.41      0.43      0.39     63688\n",
      "\n",
      "Confusion Matrix:\n",
      " [[  613  2364  1711    27     0     6     0     0     0     0     0]\n",
      " [  320  7926  6216   700     1   464     0     1     0     0     0]\n",
      " [  254  4956 11743   228     2   274     0     2    17     0    22]\n",
      " [  163  1806  4688  2615     1  1723     0    13     6     1    16]\n",
      " [   78   434  1507   135     1   166     0     4     3     6    15]\n",
      " [   74   501  1090  1652     3  3486     0     6   102     1    89]\n",
      " [   21    71   304    41     0    92     0     1     4     1    14]\n",
      " [   25   105   214   435     0  1086     0    57    20     1   108]\n",
      " [    8    37    48    83     1   528     0     2   177     0    83]\n",
      " [    2    25    61   101     0   285     0     7     5     6    61]\n",
      " [   20    47    73    73     0   459     0    35    79     5   545]]\n"
     ]
    },
    {
     "name": "stderr",
     "output_type": "stream",
     "text": [
      "C:\\Users\\JScot\\AppData\\Local\\Programs\\Python\\Python312\\Lib\\site-packages\\sklearn\\metrics\\_classification.py:1471: UndefinedMetricWarning: Precision and F-score are ill-defined and being set to 0.0 in labels with no predicted samples. Use `zero_division` parameter to control this behavior.\n",
      "  _warn_prf(average, modifier, msg_start, len(result))\n",
      "C:\\Users\\JScot\\AppData\\Local\\Programs\\Python\\Python312\\Lib\\site-packages\\sklearn\\metrics\\_classification.py:1471: UndefinedMetricWarning: Precision and F-score are ill-defined and being set to 0.0 in labels with no predicted samples. Use `zero_division` parameter to control this behavior.\n",
      "  _warn_prf(average, modifier, msg_start, len(result))\n",
      "C:\\Users\\JScot\\AppData\\Local\\Programs\\Python\\Python312\\Lib\\site-packages\\sklearn\\metrics\\_classification.py:1471: UndefinedMetricWarning: Precision and F-score are ill-defined and being set to 0.0 in labels with no predicted samples. Use `zero_division` parameter to control this behavior.\n",
      "  _warn_prf(average, modifier, msg_start, len(result))\n"
     ]
    }
   ],
   "source": [
    "# Final evaluation\n",
    "y_pred = best_xgb_clf.predict(X_test_scaled)\n",
    "print(f\"Final Accuracy: {accuracy_score(y_test, y_pred):.4f}\")\n",
    "print(\"Classification Report:\\n\", classification_report(y_test, y_pred))\n",
    "print(\"Confusion Matrix:\\n\", confusion_matrix(y_test, y_pred))"
   ]
  },
  {
   "cell_type": "code",
   "execution_count": null,
   "id": "a507388e-2da2-485d-8d77-2e1aeaa7cc97",
   "metadata": {},
   "outputs": [],
   "source": []
  }
 ],
 "metadata": {
  "kernelspec": {
   "display_name": "Python 3 (ipykernel)",
   "language": "python",
   "name": "python3"
  },
  "language_info": {
   "codemirror_mode": {
    "name": "ipython",
    "version": 3
   },
   "file_extension": ".py",
   "mimetype": "text/x-python",
   "name": "python",
   "nbconvert_exporter": "python",
   "pygments_lexer": "ipython3",
   "version": "3.12.0"
  }
 },
 "nbformat": 4,
 "nbformat_minor": 5
}
