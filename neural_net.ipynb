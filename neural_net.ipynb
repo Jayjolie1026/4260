{
 "cells": [
  {
   "cell_type": "code",
   "execution_count": 35,
   "metadata": {},
   "outputs": [],
   "source": [
    "import tensorflow as tf\n",
    "from tensorflow import keras\n",
    "from tensorflow.keras import layers\n",
    "import pandas as pd\n",
    "from sklearn.model_selection import train_test_split\n",
    "from sklearn.preprocessing import LabelEncoder\n",
    "import numpy as np"
   ]
  },
  {
   "cell_type": "code",
   "execution_count": 36,
   "metadata": {},
   "outputs": [],
   "source": [
    "# Load datasets\n",
    "train_dir = \"train.csv\"\n",
    "test_dir = \"test.csv\"\n",
    "\n",
    "# Read the data\n",
    "train_data = pd.read_csv(train_dir)\n",
    "test_data = pd.read_csv(test_dir)"
   ]
  },
  {
   "cell_type": "code",
   "execution_count": 37,
   "metadata": {},
   "outputs": [],
   "source": [
    "train_data.drop(columns=[col for col in ['case_id', 'patientid'] if col in train_data.columns], inplace=True)"
   ]
  },
  {
   "cell_type": "code",
   "execution_count": 38,
   "metadata": {},
   "outputs": [],
   "source": [
    "stay_mapping = {\n",
    "    '0-10': 0, '11-20': 1, '21-30': 2, '31-40': 3, '41-50': 4,\n",
    "    '51-60': 5, '61-70': 6, '71-80': 7, '81-90': 8, '91-100': 9,\n",
    "    '100 Days': 9, 'More than 100 Days': 10\n",
    "}\n",
    "train_data['Stay'] = train_data['Stay'].map(stay_mapping)"
   ]
  },
  {
   "cell_type": "code",
   "execution_count": 39,
   "metadata": {},
   "outputs": [],
   "source": [
    "# Fill bed grade and city code nulls with most common value (mode) for that feature\n",
    "if 'Bed Grade' in train_data.columns and train_data['Bed Grade'].isnull().sum() > 0:\n",
    "    train_data['Bed Grade'].fillna(train_data['Bed Grade'].mode()[0], inplace=True)\n",
    "if 'City_Code_Patient' in train_data.columns and train_data['City_Code_Patient'].isnull().sum() > 0:\n",
    "    train_data['City_Code_Patient'].fillna(train_data['City_Code_Patient'].mode()[0], inplace=True)\n",
    "\n",
    "# Ensure Bed Grade and City Code are integers\n",
    "if 'Bed Grade' in train_data.columns:\n",
    "    train_data['Bed Grade'] = train_data['Bed Grade'].astype(int)\n",
    "if 'City_Code_Patient' in train_data.columns:\n",
    "    train_data['City_Code_Patient'] = train_data['City_Code_Patient'].astype(int)"
   ]
  },
  {
   "cell_type": "code",
   "execution_count": 40,
   "metadata": {},
   "outputs": [],
   "source": [
    "# Convert categorical variables using the specified mappings\n",
    "if 'Hospital_type_code' in train_data.columns:\n",
    "    train_data['Hospital_type_code'] = train_data['Hospital_type_code'].map(lambda x: ord(x.lower()) - ord('a') + 1)\n",
    "if 'Ward_Facility_Code' in train_data.columns:\n",
    "    train_data['Ward_Facility_Code'] = train_data['Ward_Facility_Code'].map(lambda x: ord(x) - ord('A') + 1)\n",
    "if 'Hospital_region_code' in train_data.columns:\n",
    "    region_mapping = {'X': 1, 'Y': 2, 'Z': 3}\n",
    "    train_data['Hospital_region_code'] = train_data['Hospital_region_code'].map(region_mapping)\n",
    "if 'Ward_Type' in train_data.columns:\n",
    "    train_data['Ward_Type'] = train_data['Ward_Type'].map(lambda x: ord(x) - ord('P') + 1)\n",
    "if 'Type of Admission' in train_data.columns:\n",
    "    admission_mapping = {'Trauma': 1, 'Urgent': 2, 'Emergency': 3}\n",
    "    train_data['Type of Admission'] = train_data['Type of Admission'].map(admission_mapping)\n",
    "if 'Severity of Illness' in train_data.columns:\n",
    "    severity_mapping = {'Minor': 1, 'Moderate': 2, 'Extreme': 3}\n",
    "    train_data['Severity of Illness'] = train_data['Severity of Illness'].map(severity_mapping)"
   ]
  },
  {
   "cell_type": "code",
   "execution_count": 41,
   "metadata": {},
   "outputs": [],
   "source": [
    "label_encoders = {}\n",
    "\n",
    "# Label Encode Age by decade\n",
    "if 'Age' in train_data.columns:\n",
    "    le = LabelEncoder()\n",
    "    train_data['Age'] = le.fit_transform(train_data['Age'])\n",
    "    label_encoders['Age'] = le\n",
    "\n",
    "# Label Encode Department\n",
    "if 'Department' in train_data.columns:\n",
    "    le = LabelEncoder()\n",
    "    train_data['Department'] = le.fit_transform(train_data['Department'])\n",
    "    label_encoders['Department'] = le"
   ]
  },
  {
   "cell_type": "code",
   "execution_count": 42,
   "metadata": {},
   "outputs": [],
   "source": [
    "#split train into two data sets, so that Stay is isolated\n",
    "X = train_data.drop(columns=['Stay'])  # Creates a dataset without the 'Stay' column\n",
    "y = train_data['Stay']\n",
    "\n",
    "\n",
    "X_train, X_test, y_train, y_test = train_test_split(X, y, test_size=0.2, random_state=42, stratify=y)\n",
    "\n",
    "\n",
    "# Define the number of input features and output classes\n",
    "num_features = X_train.shape[1]  # Assuming X_train is already preprocessed\n",
    "num_classes = y_train.nunique()  # Number of unique length-of-stay categories"
   ]
  },
  {
   "cell_type": "code",
   "execution_count": 43,
   "metadata": {},
   "outputs": [
    {
     "name": "stdout",
     "output_type": "stream",
     "text": [
      "Unique values in y_train: [ 0  1  2  3  4  5  6  7  8  9 10]\n",
      "Unique values in y_test: [ 0  1  2  3  4  5  6  7  8  9 10]\n"
     ]
    }
   ],
   "source": [
    "print(f\"Unique values in y_train: {np.unique(y_train)}\")\n",
    "print(f\"Unique values in y_test: {np.unique(y_test)}\")"
   ]
  },
  {
   "cell_type": "code",
   "execution_count": 44,
   "metadata": {},
   "outputs": [
    {
     "name": "stdout",
     "output_type": "stream",
     "text": [
      "Epoch 1/50\n"
     ]
    },
    {
     "name": "stderr",
     "output_type": "stream",
     "text": [
      "C:\\Users\\Riley\\AppData\\Local\\Packages\\PythonSoftwareFoundation.Python.3.11_qbz5n2kfra8p0\\LocalCache\\local-packages\\Python311\\site-packages\\keras\\src\\layers\\core\\dense.py:87: UserWarning: Do not pass an `input_shape`/`input_dim` argument to a layer. When using Sequential models, prefer using an `Input(shape)` object as the first layer in the model instead.\n",
      "  super().__init__(activity_regularizer=activity_regularizer, **kwargs)\n"
     ]
    },
    {
     "name": "stdout",
     "output_type": "stream",
     "text": [
      "\u001b[1m7961/7961\u001b[0m \u001b[32m━━━━━━━━━━━━━━━━━━━━\u001b[0m\u001b[37m\u001b[0m \u001b[1m39s\u001b[0m 4ms/step - accuracy: 0.2536 - loss: 2.0176 - val_accuracy: 0.2748 - val_loss: 1.8990\n",
      "Epoch 2/50\n",
      "\u001b[1m7961/7961\u001b[0m \u001b[32m━━━━━━━━━━━━━━━━━━━━\u001b[0m\u001b[37m\u001b[0m \u001b[1m50s\u001b[0m 6ms/step - accuracy: 0.2723 - loss: 1.9049 - val_accuracy: 0.2748 - val_loss: 1.9001\n",
      "Epoch 3/50\n",
      "\u001b[1m7961/7961\u001b[0m \u001b[32m━━━━━━━━━━━━━━━━━━━━\u001b[0m\u001b[37m\u001b[0m \u001b[1m44s\u001b[0m 5ms/step - accuracy: 0.2746 - loss: 1.9018 - val_accuracy: 0.2748 - val_loss: 1.8990\n",
      "Epoch 4/50\n",
      "\u001b[1m7961/7961\u001b[0m \u001b[32m━━━━━━━━━━━━━━━━━━━━\u001b[0m\u001b[37m\u001b[0m \u001b[1m42s\u001b[0m 5ms/step - accuracy: 0.2750 - loss: 1.8989 - val_accuracy: 0.2748 - val_loss: 1.8985\n",
      "Epoch 5/50\n",
      "\u001b[1m7961/7961\u001b[0m \u001b[32m━━━━━━━━━━━━━━━━━━━━\u001b[0m\u001b[37m\u001b[0m \u001b[1m47s\u001b[0m 6ms/step - accuracy: 0.2737 - loss: 1.9027 - val_accuracy: 0.2454 - val_loss: 1.9002\n",
      "Epoch 6/50\n",
      "\u001b[1m7961/7961\u001b[0m \u001b[32m━━━━━━━━━━━━━━━━━━━━\u001b[0m\u001b[37m\u001b[0m \u001b[1m52s\u001b[0m 7ms/step - accuracy: 0.2738 - loss: 1.8976 - val_accuracy: 0.2748 - val_loss: 1.8985\n",
      "Epoch 7/50\n",
      "\u001b[1m7961/7961\u001b[0m \u001b[32m━━━━━━━━━━━━━━━━━━━━\u001b[0m\u001b[37m\u001b[0m \u001b[1m56s\u001b[0m 7ms/step - accuracy: 0.2740 - loss: 1.8993 - val_accuracy: 0.2748 - val_loss: 1.8988\n",
      "Epoch 8/50\n",
      "\u001b[1m7961/7961\u001b[0m \u001b[32m━━━━━━━━━━━━━━━━━━━━\u001b[0m\u001b[37m\u001b[0m \u001b[1m59s\u001b[0m 7ms/step - accuracy: 0.2754 - loss: 1.9006 - val_accuracy: 0.2748 - val_loss: 1.8985\n",
      "Epoch 9/50\n",
      "\u001b[1m7961/7961\u001b[0m \u001b[32m━━━━━━━━━━━━━━━━━━━━\u001b[0m\u001b[37m\u001b[0m \u001b[1m58s\u001b[0m 7ms/step - accuracy: 0.2738 - loss: 1.9014 - val_accuracy: 0.2748 - val_loss: 1.8988\n",
      "Epoch 10/50\n",
      "\u001b[1m7961/7961\u001b[0m \u001b[32m━━━━━━━━━━━━━━━━━━━━\u001b[0m\u001b[37m\u001b[0m \u001b[1m54s\u001b[0m 7ms/step - accuracy: 0.2762 - loss: 1.8994 - val_accuracy: 0.2748 - val_loss: 1.8986\n",
      "Epoch 11/50\n",
      "\u001b[1m7961/7961\u001b[0m \u001b[32m━━━━━━━━━━━━━━━━━━━━\u001b[0m\u001b[37m\u001b[0m \u001b[1m296s\u001b[0m 37ms/step - accuracy: 0.2749 - loss: 1.8990 - val_accuracy: 0.2748 - val_loss: 1.8984\n",
      "Epoch 12/50\n",
      "\u001b[1m7961/7961\u001b[0m \u001b[32m━━━━━━━━━━━━━━━━━━━━\u001b[0m\u001b[37m\u001b[0m \u001b[1m45s\u001b[0m 6ms/step - accuracy: 0.2752 - loss: 1.8961 - val_accuracy: 0.2748 - val_loss: 1.8984\n",
      "Epoch 13/50\n",
      "\u001b[1m7961/7961\u001b[0m \u001b[32m━━━━━━━━━━━━━━━━━━━━\u001b[0m\u001b[37m\u001b[0m \u001b[1m42s\u001b[0m 5ms/step - accuracy: 0.2751 - loss: 1.8966 - val_accuracy: 0.2748 - val_loss: 1.8985\n",
      "Epoch 14/50\n",
      "\u001b[1m7961/7961\u001b[0m \u001b[32m━━━━━━━━━━━━━━━━━━━━\u001b[0m\u001b[37m\u001b[0m \u001b[1m46s\u001b[0m 6ms/step - accuracy: 0.2751 - loss: 1.9008 - val_accuracy: 0.2748 - val_loss: 1.8986\n",
      "Epoch 15/50\n",
      "\u001b[1m7961/7961\u001b[0m \u001b[32m━━━━━━━━━━━━━━━━━━━━\u001b[0m\u001b[37m\u001b[0m \u001b[1m58s\u001b[0m 7ms/step - accuracy: 0.2745 - loss: 1.9010 - val_accuracy: 0.2748 - val_loss: 1.8985\n",
      "Epoch 16/50\n",
      "\u001b[1m7961/7961\u001b[0m \u001b[32m━━━━━━━━━━━━━━━━━━━━\u001b[0m\u001b[37m\u001b[0m \u001b[1m53s\u001b[0m 7ms/step - accuracy: 0.2751 - loss: 1.8972 - val_accuracy: 0.2748 - val_loss: 1.8984\n",
      "Epoch 17/50\n",
      "\u001b[1m7961/7961\u001b[0m \u001b[32m━━━━━━━━━━━━━━━━━━━━\u001b[0m\u001b[37m\u001b[0m \u001b[1m49s\u001b[0m 6ms/step - accuracy: 0.2756 - loss: 1.8984 - val_accuracy: 0.2748 - val_loss: 1.8985\n",
      "Epoch 18/50\n",
      "\u001b[1m7961/7961\u001b[0m \u001b[32m━━━━━━━━━━━━━━━━━━━━\u001b[0m\u001b[37m\u001b[0m \u001b[1m101s\u001b[0m 13ms/step - accuracy: 0.2738 - loss: 1.9003 - val_accuracy: 0.2748 - val_loss: 1.8984\n",
      "Epoch 19/50\n",
      "\u001b[1m7961/7961\u001b[0m \u001b[32m━━━━━━━━━━━━━━━━━━━━\u001b[0m\u001b[37m\u001b[0m \u001b[1m43s\u001b[0m 5ms/step - accuracy: 0.2745 - loss: 1.8998 - val_accuracy: 0.2748 - val_loss: 1.8985\n",
      "Epoch 20/50\n",
      "\u001b[1m7961/7961\u001b[0m \u001b[32m━━━━━━━━━━━━━━━━━━━━\u001b[0m\u001b[37m\u001b[0m \u001b[1m46s\u001b[0m 6ms/step - accuracy: 0.2743 - loss: 1.8953 - val_accuracy: 0.2748 - val_loss: 1.8983\n",
      "Epoch 21/50\n",
      "\u001b[1m7961/7961\u001b[0m \u001b[32m━━━━━━━━━━━━━━━━━━━━\u001b[0m\u001b[37m\u001b[0m \u001b[1m48s\u001b[0m 6ms/step - accuracy: 0.2743 - loss: 1.9001 - val_accuracy: 0.2748 - val_loss: 1.8984\n",
      "Epoch 22/50\n",
      "\u001b[1m7961/7961\u001b[0m \u001b[32m━━━━━━━━━━━━━━━━━━━━\u001b[0m\u001b[37m\u001b[0m \u001b[1m49s\u001b[0m 6ms/step - accuracy: 0.2758 - loss: 1.8946 - val_accuracy: 0.2748 - val_loss: 1.8987\n",
      "Epoch 23/50\n",
      "\u001b[1m7961/7961\u001b[0m \u001b[32m━━━━━━━━━━━━━━━━━━━━\u001b[0m\u001b[37m\u001b[0m \u001b[1m52s\u001b[0m 7ms/step - accuracy: 0.2744 - loss: 1.8994 - val_accuracy: 0.2748 - val_loss: 1.8984\n",
      "Epoch 24/50\n",
      "\u001b[1m7961/7961\u001b[0m \u001b[32m━━━━━━━━━━━━━━━━━━━━\u001b[0m\u001b[37m\u001b[0m \u001b[1m110s\u001b[0m 14ms/step - accuracy: 0.2747 - loss: 1.9010 - val_accuracy: 0.2748 - val_loss: 1.8984\n",
      "Epoch 25/50\n",
      "\u001b[1m7961/7961\u001b[0m \u001b[32m━━━━━━━━━━━━━━━━━━━━\u001b[0m\u001b[37m\u001b[0m \u001b[1m80s\u001b[0m 10ms/step - accuracy: 0.2737 - loss: 1.9033 - val_accuracy: 0.2748 - val_loss: 1.8985\n",
      "Epoch 26/50\n",
      "\u001b[1m7961/7961\u001b[0m \u001b[32m━━━━━━━━━━━━━━━━━━━━\u001b[0m\u001b[37m\u001b[0m \u001b[1m47s\u001b[0m 6ms/step - accuracy: 0.2746 - loss: 1.8962 - val_accuracy: 0.2748 - val_loss: 1.8984\n",
      "Epoch 27/50\n",
      "\u001b[1m7961/7961\u001b[0m \u001b[32m━━━━━━━━━━━━━━━━━━━━\u001b[0m\u001b[37m\u001b[0m \u001b[1m45s\u001b[0m 6ms/step - accuracy: 0.2742 - loss: 1.8981 - val_accuracy: 0.2748 - val_loss: 1.8985\n",
      "Epoch 28/50\n",
      "\u001b[1m7961/7961\u001b[0m \u001b[32m━━━━━━━━━━━━━━━━━━━━\u001b[0m\u001b[37m\u001b[0m \u001b[1m45s\u001b[0m 6ms/step - accuracy: 0.2754 - loss: 1.8990 - val_accuracy: 0.2748 - val_loss: 1.8984\n",
      "Epoch 29/50\n",
      "\u001b[1m7961/7961\u001b[0m \u001b[32m━━━━━━━━━━━━━━━━━━━━\u001b[0m\u001b[37m\u001b[0m \u001b[1m82s\u001b[0m 6ms/step - accuracy: 0.2745 - loss: 1.8985 - val_accuracy: 0.2748 - val_loss: 1.8984\n",
      "Epoch 30/50\n",
      "\u001b[1m7961/7961\u001b[0m \u001b[32m━━━━━━━━━━━━━━━━━━━━\u001b[0m\u001b[37m\u001b[0m \u001b[1m45s\u001b[0m 6ms/step - accuracy: 0.2745 - loss: 1.8993 - val_accuracy: 0.2748 - val_loss: 1.8986\n",
      "Epoch 31/50\n",
      "\u001b[1m7961/7961\u001b[0m \u001b[32m━━━━━━━━━━━━━━━━━━━━\u001b[0m\u001b[37m\u001b[0m \u001b[1m93s\u001b[0m 7ms/step - accuracy: 0.2735 - loss: 1.8986 - val_accuracy: 0.2748 - val_loss: 1.8984\n",
      "Epoch 32/50\n",
      "\u001b[1m7961/7961\u001b[0m \u001b[32m━━━━━━━━━━━━━━━━━━━━\u001b[0m\u001b[37m\u001b[0m \u001b[1m44s\u001b[0m 5ms/step - accuracy: 0.2738 - loss: 1.9006 - val_accuracy: 0.2748 - val_loss: 1.8983\n",
      "Epoch 33/50\n",
      "\u001b[1m7961/7961\u001b[0m \u001b[32m━━━━━━━━━━━━━━━━━━━━\u001b[0m\u001b[37m\u001b[0m \u001b[1m82s\u001b[0m 5ms/step - accuracy: 0.2755 - loss: 1.8981 - val_accuracy: 0.2748 - val_loss: 1.8984\n",
      "Epoch 34/50\n",
      "\u001b[1m7961/7961\u001b[0m \u001b[32m━━━━━━━━━━━━━━━━━━━━\u001b[0m\u001b[37m\u001b[0m \u001b[1m105s\u001b[0m 8ms/step - accuracy: 0.2745 - loss: 1.8992 - val_accuracy: 0.2748 - val_loss: 1.8983\n",
      "Epoch 35/50\n",
      "\u001b[1m7961/7961\u001b[0m \u001b[32m━━━━━━━━━━━━━━━━━━━━\u001b[0m\u001b[37m\u001b[0m \u001b[1m53s\u001b[0m 7ms/step - accuracy: 0.2728 - loss: 1.9003 - val_accuracy: 0.2748 - val_loss: 1.8984\n",
      "Epoch 36/50\n",
      "\u001b[1m7961/7961\u001b[0m \u001b[32m━━━━━━━━━━━━━━━━━━━━\u001b[0m\u001b[37m\u001b[0m \u001b[1m111s\u001b[0m 14ms/step - accuracy: 0.2739 - loss: 1.8988 - val_accuracy: 0.2748 - val_loss: 1.8984\n",
      "Epoch 37/50\n",
      "\u001b[1m7961/7961\u001b[0m \u001b[32m━━━━━━━━━━━━━━━━━━━━\u001b[0m\u001b[37m\u001b[0m \u001b[1m130s\u001b[0m 16ms/step - accuracy: 0.2740 - loss: 1.8986 - val_accuracy: 0.2748 - val_loss: 1.8986\n",
      "Epoch 38/50\n",
      "\u001b[1m7961/7961\u001b[0m \u001b[32m━━━━━━━━━━━━━━━━━━━━\u001b[0m\u001b[37m\u001b[0m \u001b[1m148s\u001b[0m 19ms/step - accuracy: 0.2759 - loss: 1.8989 - val_accuracy: 0.2748 - val_loss: 1.8983\n",
      "Epoch 39/50\n",
      "\u001b[1m7961/7961\u001b[0m \u001b[32m━━━━━━━━━━━━━━━━━━━━\u001b[0m\u001b[37m\u001b[0m \u001b[1m73s\u001b[0m 9ms/step - accuracy: 0.2741 - loss: 1.9025 - val_accuracy: 0.2748 - val_loss: 1.8984\n",
      "Epoch 40/50\n",
      "\u001b[1m7961/7961\u001b[0m \u001b[32m━━━━━━━━━━━━━━━━━━━━\u001b[0m\u001b[37m\u001b[0m \u001b[1m58s\u001b[0m 7ms/step - accuracy: 0.2758 - loss: 1.8994 - val_accuracy: 0.2748 - val_loss: 1.8986\n",
      "Epoch 41/50\n",
      "\u001b[1m7961/7961\u001b[0m \u001b[32m━━━━━━━━━━━━━━━━━━━━\u001b[0m\u001b[37m\u001b[0m \u001b[1m63s\u001b[0m 8ms/step - accuracy: 0.2749 - loss: 1.8978 - val_accuracy: 0.2748 - val_loss: 1.8983\n",
      "Epoch 42/50\n",
      "\u001b[1m7961/7961\u001b[0m \u001b[32m━━━━━━━━━━━━━━━━━━━━\u001b[0m\u001b[37m\u001b[0m \u001b[1m124s\u001b[0m 16ms/step - accuracy: 0.2748 - loss: 1.8969 - val_accuracy: 0.2748 - val_loss: 1.8984\n",
      "Epoch 43/50\n",
      "\u001b[1m7961/7961\u001b[0m \u001b[32m━━━━━━━━━━━━━━━━━━━━\u001b[0m\u001b[37m\u001b[0m \u001b[1m120s\u001b[0m 15ms/step - accuracy: 0.2739 - loss: 1.8990 - val_accuracy: 0.2748 - val_loss: 1.8988\n",
      "Epoch 44/50\n",
      "\u001b[1m7961/7961\u001b[0m \u001b[32m━━━━━━━━━━━━━━━━━━━━\u001b[0m\u001b[37m\u001b[0m \u001b[1m113s\u001b[0m 14ms/step - accuracy: 0.2745 - loss: 1.8965 - val_accuracy: 0.2748 - val_loss: 1.8983\n",
      "Epoch 45/50\n",
      "\u001b[1m7961/7961\u001b[0m \u001b[32m━━━━━━━━━━━━━━━━━━━━\u001b[0m\u001b[37m\u001b[0m \u001b[1m109s\u001b[0m 14ms/step - accuracy: 0.2744 - loss: 1.8994 - val_accuracy: 0.2748 - val_loss: 1.8983\n",
      "Epoch 46/50\n",
      "\u001b[1m7961/7961\u001b[0m \u001b[32m━━━━━━━━━━━━━━━━━━━━\u001b[0m\u001b[37m\u001b[0m \u001b[1m98s\u001b[0m 12ms/step - accuracy: 0.2737 - loss: 1.9016 - val_accuracy: 0.2748 - val_loss: 1.8984\n",
      "Epoch 47/50\n",
      "\u001b[1m7961/7961\u001b[0m \u001b[32m━━━━━━━━━━━━━━━━━━━━\u001b[0m\u001b[37m\u001b[0m \u001b[1m118s\u001b[0m 15ms/step - accuracy: 0.2736 - loss: 1.9015 - val_accuracy: 0.2748 - val_loss: 1.8983\n",
      "Epoch 48/50\n",
      "\u001b[1m7961/7961\u001b[0m \u001b[32m━━━━━━━━━━━━━━━━━━━━\u001b[0m\u001b[37m\u001b[0m \u001b[1m161s\u001b[0m 17ms/step - accuracy: 0.2746 - loss: 1.8966 - val_accuracy: 0.2748 - val_loss: 1.8985\n",
      "Epoch 49/50\n",
      "\u001b[1m7961/7961\u001b[0m \u001b[32m━━━━━━━━━━━━━━━━━━━━\u001b[0m\u001b[37m\u001b[0m \u001b[1m165s\u001b[0m 21ms/step - accuracy: 0.2754 - loss: 1.8953 - val_accuracy: 0.2748 - val_loss: 1.8984\n",
      "Epoch 50/50\n",
      "\u001b[1m7961/7961\u001b[0m \u001b[32m━━━━━━━━━━━━━━━━━━━━\u001b[0m\u001b[37m\u001b[0m \u001b[1m144s\u001b[0m 18ms/step - accuracy: 0.2751 - loss: 1.8976 - val_accuracy: 0.2748 - val_loss: 1.8984\n",
      "\u001b[1m1991/1991\u001b[0m \u001b[32m━━━━━━━━━━━━━━━━━━━━\u001b[0m\u001b[37m\u001b[0m \u001b[1m23s\u001b[0m 12ms/step - accuracy: 0.2759 - loss: 1.8949\n",
      "Test Accuracy: 0.2747\n"
     ]
    }
   ],
   "source": [
    "# Build the model\n",
    "model = keras.Sequential([\n",
    "    layers.Dense(128, activation='relu', input_shape=(num_features,)),\n",
    "    layers.BatchNormalization(),\n",
    "    layers.Dropout(0.3),\n",
    "\n",
    "    layers.Dense(64, activation='relu'),\n",
    "    layers.BatchNormalization(),\n",
    "    layers.Dropout(0.3),\n",
    "\n",
    "    layers.Dense(32, activation='relu'),\n",
    "    layers.BatchNormalization(),\n",
    "    layers.Dropout(0.2),\n",
    "\n",
    "    layers.Dense(num_classes, activation='softmax')  # Softmax for multi-class classification\n",
    "])\n",
    "\n",
    "# Compile the model\n",
    "model.compile(\n",
    "    optimizer=keras.optimizers.Adam(learning_rate=0.001),\n",
    "    loss='sparse_categorical_crossentropy',  # Use 'categorical_crossentropy' if one-hot encoded\n",
    "    metrics=['accuracy']\n",
    ")\n",
    "\n",
    "# Train the model\n",
    "history = model.fit(\n",
    "    X_train, y_train, \n",
    "    validation_data=(X_train, y_train), \n",
    "    epochs=50, \n",
    "    batch_size=32, \n",
    "    class_weight=None,  # Adjust if imbalance exists\n",
    "    verbose=1\n",
    ")\n",
    "\n",
    "# Evaluate the model\n",
    "test_loss, test_acc = model.evaluate(X_test, y_test)\n",
    "print(f\"Test Accuracy: {test_acc:.4f}\")"
   ]
  },
  {
   "cell_type": "code",
   "execution_count": null,
   "metadata": {},
   "outputs": [],
   "source": []
  }
 ],
 "metadata": {
  "kernelspec": {
   "display_name": "Python 3",
   "language": "python",
   "name": "python3"
  },
  "language_info": {
   "codemirror_mode": {
    "name": "ipython",
    "version": 3
   },
   "file_extension": ".py",
   "mimetype": "text/x-python",
   "name": "python",
   "nbconvert_exporter": "python",
   "pygments_lexer": "ipython3",
   "version": "3.11.9"
  }
 },
 "nbformat": 4,
 "nbformat_minor": 2
}
